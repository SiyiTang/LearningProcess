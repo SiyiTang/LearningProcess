{
  "nbformat": 4,
  "nbformat_minor": 0,
  "metadata": {
    "colab": {
      "name": "MyPortfolio.ipynb",
      "provenance": [],
      "authorship_tag": "ABX9TyN8jGgScxDDMjrU35Uwiq5l",
      "include_colab_link": true
    },
    "kernelspec": {
      "name": "python3",
      "display_name": "Python 3"
    },
    "language_info": {
      "name": "python"
    }
  },
  "cells": [
    {
      "cell_type": "markdown",
      "metadata": {
        "id": "view-in-github",
        "colab_type": "text"
      },
      "source": [
        "<a href=\"https://colab.research.google.com/github/SiyiTang/LearningProcess/blob/main/MyPortfolio%5B1%5D.ipynb\" target=\"_parent\"><img src=\"https://colab.research.google.com/assets/colab-badge.svg\" alt=\"Open In Colab\"/></a>"
      ]
    },
    {
      "cell_type": "code",
      "metadata": {
        "colab": {
          "base_uri": "https://localhost:8080/"
        },
        "id": "FO0Uf_tliQG8",
        "outputId": "574b2f1d-ffe6-4242-a90a-e88b3ae17204"
      },
      "source": [
        "pip install deepdow"
      ],
      "execution_count": 1,
      "outputs": [
        {
          "output_type": "stream",
          "text": [
            "Collecting deepdow\n",
            "\u001b[?25l  Downloading https://files.pythonhosted.org/packages/d9/6e/b738c2a5969dbcac4238e6ebd849e92d35a8ef7c65f6b93848f9b305bb6b/deepdow-0.2.2-py3-none-any.whl (52kB)\n",
            "\r\u001b[K     |██████▏                         | 10kB 13.9MB/s eta 0:00:01\r\u001b[K     |████████████▍                   | 20kB 19.5MB/s eta 0:00:01\r\u001b[K     |██████████████████▋             | 30kB 24.2MB/s eta 0:00:01\r\u001b[K     |████████████████████████▉       | 40kB 22.0MB/s eta 0:00:01\r\u001b[K     |███████████████████████████████ | 51kB 23.2MB/s eta 0:00:01\r\u001b[K     |████████████████████████████████| 61kB 6.2MB/s \n",
            "\u001b[?25hRequirement already satisfied: seaborn in /usr/local/lib/python3.7/dist-packages (from deepdow) (0.11.1)\n",
            "Requirement already satisfied: tensorboard in /usr/local/lib/python3.7/dist-packages (from deepdow) (2.4.1)\n",
            "Requirement already satisfied: matplotlib in /usr/local/lib/python3.7/dist-packages (from deepdow) (3.2.2)\n",
            "Collecting mlflow\n",
            "\u001b[?25l  Downloading https://files.pythonhosted.org/packages/44/03/27a5457d0dfd7cd05016e54c0c00b33e99b968d3cc49e4b87824307f1560/mlflow-1.15.0-py3-none-any.whl (14.2MB)\n",
            "\u001b[K     |████████████████████████████████| 14.2MB 254kB/s \n",
            "\u001b[?25hRequirement already satisfied: pillow in /usr/local/lib/python3.7/dist-packages (from deepdow) (7.1.2)\n",
            "Requirement already satisfied: pandas in /usr/local/lib/python3.7/dist-packages (from deepdow) (1.1.5)\n",
            "Requirement already satisfied: torch>=1.5 in /usr/local/lib/python3.7/dist-packages (from deepdow) (1.8.1+cu101)\n",
            "Collecting cvxpylayers\n",
            "  Downloading https://files.pythonhosted.org/packages/13/4f/e58e410cadceca32d57215b87460f1a337c7d82fd4c1f1e670c59da7b7fe/cvxpylayers-0.1.5.tar.gz\n",
            "Requirement already satisfied: tqdm in /usr/local/lib/python3.7/dist-packages (from deepdow) (4.41.1)\n",
            "Requirement already satisfied: numpy>=1.16.5 in /usr/local/lib/python3.7/dist-packages (from deepdow) (1.19.5)\n",
            "Requirement already satisfied: scipy>=1.0 in /usr/local/lib/python3.7/dist-packages (from seaborn->deepdow) (1.4.1)\n",
            "Requirement already satisfied: wheel>=0.26; python_version >= \"3\" in /usr/local/lib/python3.7/dist-packages (from tensorboard->deepdow) (0.36.2)\n",
            "Requirement already satisfied: google-auth<2,>=1.6.3 in /usr/local/lib/python3.7/dist-packages (from tensorboard->deepdow) (1.28.1)\n",
            "Requirement already satisfied: google-auth-oauthlib<0.5,>=0.4.1 in /usr/local/lib/python3.7/dist-packages (from tensorboard->deepdow) (0.4.4)\n",
            "Requirement already satisfied: requests<3,>=2.21.0 in /usr/local/lib/python3.7/dist-packages (from tensorboard->deepdow) (2.23.0)\n",
            "Requirement already satisfied: grpcio>=1.24.3 in /usr/local/lib/python3.7/dist-packages (from tensorboard->deepdow) (1.32.0)\n",
            "Requirement already satisfied: setuptools>=41.0.0 in /usr/local/lib/python3.7/dist-packages (from tensorboard->deepdow) (56.0.0)\n",
            "Requirement already satisfied: absl-py>=0.4 in /usr/local/lib/python3.7/dist-packages (from tensorboard->deepdow) (0.12.0)\n",
            "Requirement already satisfied: markdown>=2.6.8 in /usr/local/lib/python3.7/dist-packages (from tensorboard->deepdow) (3.3.4)\n",
            "Requirement already satisfied: six>=1.10.0 in /usr/local/lib/python3.7/dist-packages (from tensorboard->deepdow) (1.15.0)\n",
            "Requirement already satisfied: tensorboard-plugin-wit>=1.6.0 in /usr/local/lib/python3.7/dist-packages (from tensorboard->deepdow) (1.8.0)\n",
            "Requirement already satisfied: werkzeug>=0.11.15 in /usr/local/lib/python3.7/dist-packages (from tensorboard->deepdow) (1.0.1)\n",
            "Requirement already satisfied: protobuf>=3.6.0 in /usr/local/lib/python3.7/dist-packages (from tensorboard->deepdow) (3.12.4)\n",
            "Requirement already satisfied: cycler>=0.10 in /usr/local/lib/python3.7/dist-packages (from matplotlib->deepdow) (0.10.0)\n",
            "Requirement already satisfied: pyparsing!=2.0.4,!=2.1.2,!=2.1.6,>=2.0.1 in /usr/local/lib/python3.7/dist-packages (from matplotlib->deepdow) (2.4.7)\n",
            "Requirement already satisfied: kiwisolver>=1.0.1 in /usr/local/lib/python3.7/dist-packages (from matplotlib->deepdow) (1.3.1)\n",
            "Requirement already satisfied: python-dateutil>=2.1 in /usr/local/lib/python3.7/dist-packages (from matplotlib->deepdow) (2.8.1)\n",
            "Collecting alembic<=1.4.1\n",
            "\u001b[?25l  Downloading https://files.pythonhosted.org/packages/e0/e9/359dbb77c35c419df0aedeb1d53e71e7e3f438ff64a8fdb048c907404de3/alembic-1.4.1.tar.gz (1.1MB)\n",
            "\u001b[K     |████████████████████████████████| 1.1MB 47.3MB/s \n",
            "\u001b[?25hCollecting prometheus-flask-exporter\n",
            "  Downloading https://files.pythonhosted.org/packages/4c/d5/8a046d683c2cc084b6a502812827ede69b1064f95d93f94b83f809b21723/prometheus_flask_exporter-0.18.1.tar.gz\n",
            "Collecting docker>=4.0.0\n",
            "\u001b[?25l  Downloading https://files.pythonhosted.org/packages/b2/5a/f988909dfed18c1ac42ad8d9e611e6c5657e270aa6eb68559985dbb69c13/docker-5.0.0-py2.py3-none-any.whl (146kB)\n",
            "\u001b[K     |████████████████████████████████| 153kB 37.0MB/s \n",
            "\u001b[?25hRequirement already satisfied: entrypoints in /usr/local/lib/python3.7/dist-packages (from mlflow->deepdow) (0.3)\n",
            "Requirement already satisfied: cloudpickle in /usr/local/lib/python3.7/dist-packages (from mlflow->deepdow) (1.3.0)\n",
            "Collecting gitpython>=2.1.0\n",
            "\u001b[?25l  Downloading https://files.pythonhosted.org/packages/a6/99/98019716955ba243657daedd1de8f3a88ca1f5b75057c38e959db22fb87b/GitPython-3.1.14-py3-none-any.whl (159kB)\n",
            "\u001b[K     |████████████████████████████████| 163kB 37.3MB/s \n",
            "\u001b[?25hRequirement already satisfied: pytz in /usr/local/lib/python3.7/dist-packages (from mlflow->deepdow) (2018.9)\n",
            "Requirement already satisfied: sqlalchemy in /usr/local/lib/python3.7/dist-packages (from mlflow->deepdow) (1.4.7)\n",
            "Requirement already satisfied: pyyaml in /usr/local/lib/python3.7/dist-packages (from mlflow->deepdow) (3.13)\n",
            "Collecting databricks-cli>=0.8.7\n",
            "\u001b[?25l  Downloading https://files.pythonhosted.org/packages/bc/af/631375abc29e59cedfa4467a5f7755503ba19898890751e1f2636ef02f92/databricks-cli-0.14.3.tar.gz (54kB)\n",
            "\u001b[K     |████████████████████████████████| 61kB 7.5MB/s \n",
            "\u001b[?25hRequirement already satisfied: click>=7.0 in /usr/local/lib/python3.7/dist-packages (from mlflow->deepdow) (7.1.2)\n",
            "Collecting querystring-parser\n",
            "  Downloading https://files.pythonhosted.org/packages/88/6b/572b2590fd55114118bf08bde63c0a421dcc82d593700f3e2ad89908a8a9/querystring_parser-1.2.4-py2.py3-none-any.whl\n",
            "Requirement already satisfied: Flask in /usr/local/lib/python3.7/dist-packages (from mlflow->deepdow) (1.1.2)\n",
            "Collecting gunicorn; platform_system != \"Windows\"\n",
            "\u001b[?25l  Downloading https://files.pythonhosted.org/packages/28/5b/0d1f0296485a6af03366604142ea8f19f0833894db3512a40ed07b2a56dd/gunicorn-20.1.0.tar.gz (370kB)\n",
            "\u001b[K     |████████████████████████████████| 378kB 28.8MB/s \n",
            "\u001b[?25hRequirement already satisfied: sqlparse>=0.3.1 in /usr/local/lib/python3.7/dist-packages (from mlflow->deepdow) (0.4.1)\n",
            "Requirement already satisfied: typing-extensions in /usr/local/lib/python3.7/dist-packages (from torch>=1.5->deepdow) (3.7.4.3)\n",
            "Collecting diffcp>=1.0.13\n",
            "\u001b[?25l  Downloading https://files.pythonhosted.org/packages/39/9f/de0ef10cd336b7f359f866df425d089f8c671e6c764fefcedb749db954cf/diffcp-1.0.16.tar.gz (2.2MB)\n",
            "\u001b[K     |████████████████████████████████| 2.2MB 33.9MB/s \n",
            "\u001b[?25hCollecting cvxpy>=1.1.0a4\n",
            "\u001b[?25l  Downloading https://files.pythonhosted.org/packages/83/47/fd1e818b8da30ef18695a0fbf9b66611ab18506f0a44fc69480a75f4db1b/cvxpy-1.1.12.tar.gz (1.3MB)\n",
            "\u001b[K     |████████████████████████████████| 1.3MB 31.9MB/s \n",
            "\u001b[?25h  Installing build dependencies ... \u001b[?25l\u001b[?25hdone\n",
            "  Getting requirements to build wheel ... \u001b[?25l\u001b[?25hdone\n",
            "    Preparing wheel metadata ... \u001b[?25l\u001b[?25hdone\n",
            "Requirement already satisfied: rsa<5,>=3.1.4; python_version >= \"3.6\" in /usr/local/lib/python3.7/dist-packages (from google-auth<2,>=1.6.3->tensorboard->deepdow) (4.7.2)\n",
            "Requirement already satisfied: pyasn1-modules>=0.2.1 in /usr/local/lib/python3.7/dist-packages (from google-auth<2,>=1.6.3->tensorboard->deepdow) (0.2.8)\n",
            "Requirement already satisfied: cachetools<5.0,>=2.0.0 in /usr/local/lib/python3.7/dist-packages (from google-auth<2,>=1.6.3->tensorboard->deepdow) (4.2.1)\n",
            "Requirement already satisfied: requests-oauthlib>=0.7.0 in /usr/local/lib/python3.7/dist-packages (from google-auth-oauthlib<0.5,>=0.4.1->tensorboard->deepdow) (1.3.0)\n",
            "Requirement already satisfied: idna<3,>=2.5 in /usr/local/lib/python3.7/dist-packages (from requests<3,>=2.21.0->tensorboard->deepdow) (2.10)\n",
            "Requirement already satisfied: certifi>=2017.4.17 in /usr/local/lib/python3.7/dist-packages (from requests<3,>=2.21.0->tensorboard->deepdow) (2020.12.5)\n",
            "Requirement already satisfied: urllib3!=1.25.0,!=1.25.1,<1.26,>=1.21.1 in /usr/local/lib/python3.7/dist-packages (from requests<3,>=2.21.0->tensorboard->deepdow) (1.24.3)\n",
            "Requirement already satisfied: chardet<4,>=3.0.2 in /usr/local/lib/python3.7/dist-packages (from requests<3,>=2.21.0->tensorboard->deepdow) (3.0.4)\n",
            "Requirement already satisfied: importlib-metadata; python_version < \"3.8\" in /usr/local/lib/python3.7/dist-packages (from markdown>=2.6.8->tensorboard->deepdow) (3.10.1)\n",
            "Collecting Mako\n",
            "\u001b[?25l  Downloading https://files.pythonhosted.org/packages/f3/54/dbc07fbb20865d3b78fdb7cf7fa713e2cba4f87f71100074ef2dc9f9d1f7/Mako-1.1.4-py2.py3-none-any.whl (75kB)\n",
            "\u001b[K     |████████████████████████████████| 81kB 9.5MB/s \n",
            "\u001b[?25hCollecting python-editor>=0.3\n",
            "  Downloading https://files.pythonhosted.org/packages/c6/d3/201fc3abe391bbae6606e6f1d598c15d367033332bd54352b12f35513717/python_editor-1.0.4-py3-none-any.whl\n",
            "Requirement already satisfied: prometheus_client in /usr/local/lib/python3.7/dist-packages (from prometheus-flask-exporter->mlflow->deepdow) (0.10.1)\n",
            "Collecting websocket-client>=0.32.0\n",
            "\u001b[?25l  Downloading https://files.pythonhosted.org/packages/08/33/80e0d4f60e84a1ddd9a03f340be1065a2a363c47ce65c4bd3bae65ce9631/websocket_client-0.58.0-py2.py3-none-any.whl (61kB)\n",
            "\u001b[K     |████████████████████████████████| 61kB 7.7MB/s \n",
            "\u001b[?25hCollecting gitdb<5,>=4.0.1\n",
            "\u001b[?25l  Downloading https://files.pythonhosted.org/packages/ea/e8/f414d1a4f0bbc668ed441f74f44c116d9816833a48bf81d22b697090dba8/gitdb-4.0.7-py3-none-any.whl (63kB)\n",
            "\u001b[K     |████████████████████████████████| 71kB 9.3MB/s \n",
            "\u001b[?25hRequirement already satisfied: greenlet!=0.4.17; python_version >= \"3\" in /usr/local/lib/python3.7/dist-packages (from sqlalchemy->mlflow->deepdow) (1.0.0)\n",
            "Requirement already satisfied: tabulate>=0.7.7 in /usr/local/lib/python3.7/dist-packages (from databricks-cli>=0.8.7->mlflow->deepdow) (0.8.9)\n",
            "Requirement already satisfied: itsdangerous>=0.24 in /usr/local/lib/python3.7/dist-packages (from Flask->mlflow->deepdow) (1.1.0)\n",
            "Requirement already satisfied: Jinja2>=2.10.1 in /usr/local/lib/python3.7/dist-packages (from Flask->mlflow->deepdow) (2.11.3)\n",
            "Requirement already satisfied: scs>=2.0.2 in /usr/local/lib/python3.7/dist-packages (from diffcp>=1.0.13->cvxpylayers->deepdow) (2.1.3)\n",
            "Requirement already satisfied: pybind11>=2.4 in /usr/local/lib/python3.7/dist-packages (from diffcp>=1.0.13->cvxpylayers->deepdow) (2.6.2)\n",
            "Collecting threadpoolctl>=1.1\n",
            "  Downloading https://files.pythonhosted.org/packages/f7/12/ec3f2e203afa394a149911729357aa48affc59c20e2c1c8297a60f33f133/threadpoolctl-2.1.0-py3-none-any.whl\n",
            "Requirement already satisfied: ecos in /usr/local/lib/python3.7/dist-packages (from diffcp>=1.0.13->cvxpylayers->deepdow) (2.0.7.post1)\n",
            "Requirement already satisfied: osqp>=0.4.1 in /usr/local/lib/python3.7/dist-packages (from cvxpy>=1.1.0a4->cvxpylayers->deepdow) (0.6.2.post0)\n",
            "Requirement already satisfied: pyasn1>=0.1.3 in /usr/local/lib/python3.7/dist-packages (from rsa<5,>=3.1.4; python_version >= \"3.6\"->google-auth<2,>=1.6.3->tensorboard->deepdow) (0.4.8)\n",
            "Requirement already satisfied: oauthlib>=3.0.0 in /usr/local/lib/python3.7/dist-packages (from requests-oauthlib>=0.7.0->google-auth-oauthlib<0.5,>=0.4.1->tensorboard->deepdow) (3.1.0)\n",
            "Requirement already satisfied: zipp>=0.5 in /usr/local/lib/python3.7/dist-packages (from importlib-metadata; python_version < \"3.8\"->markdown>=2.6.8->tensorboard->deepdow) (3.4.1)\n",
            "Requirement already satisfied: MarkupSafe>=0.9.2 in /usr/local/lib/python3.7/dist-packages (from Mako->alembic<=1.4.1->mlflow->deepdow) (1.1.1)\n",
            "Collecting smmap<5,>=3.0.1\n",
            "  Downloading https://files.pythonhosted.org/packages/68/ee/d540eb5e5996eb81c26ceffac6ee49041d473bc5125f2aa995cf51ec1cf1/smmap-4.0.0-py2.py3-none-any.whl\n",
            "Requirement already satisfied: qdldl in /usr/local/lib/python3.7/dist-packages (from osqp>=0.4.1->cvxpy>=1.1.0a4->cvxpylayers->deepdow) (0.1.5.post0)\n",
            "Building wheels for collected packages: cvxpy\n",
            "  Building wheel for cvxpy (PEP 517) ... \u001b[?25l\u001b[?25hdone\n",
            "  Created wheel for cvxpy: filename=cvxpy-1.1.12-cp37-cp37m-linux_x86_64.whl size=2731675 sha256=d632af636f9025c3bd7ec452e29646b2cae2fa2a36c0c54145e5db57eed2fa15\n",
            "  Stored in directory: /root/.cache/pip/wheels/9b/62/55/1da181c05c710c5d99bd560edebec3bd6a61cb69acef9dc00e\n",
            "Successfully built cvxpy\n",
            "Building wheels for collected packages: cvxpylayers, alembic, prometheus-flask-exporter, databricks-cli, gunicorn, diffcp\n",
            "  Building wheel for cvxpylayers (setup.py) ... \u001b[?25l\u001b[?25hdone\n",
            "  Created wheel for cvxpylayers: filename=cvxpylayers-0.1.5-cp37-none-any.whl size=26081 sha256=fa24d6fa3438d549abfaa88a55b00cad593110d02753695dee31d72260940b03\n",
            "  Stored in directory: /root/.cache/pip/wheels/ec/4f/87/a2942ca6c24e9f2cfe165084302a7f0124849cb61fbdbc2576\n",
            "  Building wheel for alembic (setup.py) ... \u001b[?25l\u001b[?25hdone\n",
            "  Created wheel for alembic: filename=alembic-1.4.1-py2.py3-none-any.whl size=158155 sha256=b600a20530302c764ee36645adbe2276a2751be09766ca6e80e7bf21b5c68b91\n",
            "  Stored in directory: /root/.cache/pip/wheels/84/07/f7/12f7370ca47a66030c2edeedcc23dec26ea0ac22dcb4c4a0f3\n",
            "  Building wheel for prometheus-flask-exporter (setup.py) ... \u001b[?25l\u001b[?25hdone\n",
            "  Created wheel for prometheus-flask-exporter: filename=prometheus_flask_exporter-0.18.1-cp37-none-any.whl size=17159 sha256=43401b9ecab4359aef449ce62b6cf7b4526ee3d0e76075f1665352ea98bae633\n",
            "  Stored in directory: /root/.cache/pip/wheels/b4/1f/b8/66bd9bc3a9d6c6987ff6c4dfeb6f1fe97b5a0e5ed5849c0437\n",
            "  Building wheel for databricks-cli (setup.py) ... \u001b[?25l\u001b[?25hdone\n",
            "  Created wheel for databricks-cli: filename=databricks_cli-0.14.3-cp37-none-any.whl size=100557 sha256=7cf8469c057b61c1b7d5b56c6ee594fd0031f723c229c6e2d2d2f43962fbd1eb\n",
            "  Stored in directory: /root/.cache/pip/wheels/5b/24/f3/34d8e3964dac4ba849d844273c49a679111b00d5799ebb934a\n",
            "  Building wheel for gunicorn (setup.py) ... \u001b[?25l\u001b[?25hdone\n",
            "  Created wheel for gunicorn: filename=gunicorn-20.1.0-cp37-none-any.whl size=78918 sha256=5807cae1a742b87697a552fda257d435177fbfa4023f445cbeed82c1a3197d59\n",
            "  Stored in directory: /root/.cache/pip/wheels/4c/ea/e2/698dde91d46e32a449e60f785a91954f67f72fea8890bb1072\n",
            "  Building wheel for diffcp (setup.py) ... \u001b[?25l\u001b[?25hdone\n",
            "  Created wheel for diffcp: filename=diffcp-1.0.16-cp37-cp37m-linux_x86_64.whl size=4003255 sha256=1ffd96ce036fbec1d3f4eb0a8d7d35d55e27f29c1e1b1e5147d06c5134c4b2f8\n",
            "  Stored in directory: /root/.cache/pip/wheels/5f/30/f6/52fb68dc73616d60ae3cff0836dfbc8526d60fbf69294fc518\n",
            "Successfully built cvxpylayers alembic prometheus-flask-exporter databricks-cli gunicorn diffcp\n",
            "Installing collected packages: Mako, python-editor, alembic, prometheus-flask-exporter, websocket-client, docker, smmap, gitdb, gitpython, databricks-cli, querystring-parser, gunicorn, mlflow, threadpoolctl, diffcp, cvxpy, cvxpylayers, deepdow\n",
            "  Found existing installation: cvxpy 1.0.31\n",
            "    Uninstalling cvxpy-1.0.31:\n",
            "      Successfully uninstalled cvxpy-1.0.31\n",
            "Successfully installed Mako-1.1.4 alembic-1.4.1 cvxpy-1.1.12 cvxpylayers-0.1.5 databricks-cli-0.14.3 deepdow-0.2.2 diffcp-1.0.16 docker-5.0.0 gitdb-4.0.7 gitpython-3.1.14 gunicorn-20.1.0 mlflow-1.15.0 prometheus-flask-exporter-0.18.1 python-editor-1.0.4 querystring-parser-1.2.4 smmap-4.0.0 threadpoolctl-2.1.0 websocket-client-0.58.0\n"
          ],
          "name": "stdout"
        }
      ]
    },
    {
      "cell_type": "markdown",
      "metadata": {
        "id": "QVMIwuZyj0nC"
      },
      "source": [
        "# Imports and Configuration"
      ]
    },
    {
      "cell_type": "code",
      "metadata": {
        "id": "NmvDGKdFixyT"
      },
      "source": [
        "%matplotlib inline\n",
        "from deepdow.benchmarks import Benchmark, OneOverN, Random, Singleton\n",
        "from deepdow.callbacks import EarlyStoppingCallback, TensorBoardCallback\n",
        "from deepdow.data import InRAMDataset, RigidDataLoader, prepare_standard_scaler, Scale\n",
        "from deepdow.experiments import Run\n",
        "from deepdow.nn import KeynesNet\n",
        "from deepdow.losses import MeanReturns, SharpeRatio, MaximumDrawdown\n",
        "from deepdow.visualize import generate_metrics_table, generate_weights_table, plot_metrics, plot_weight_heatmap\n",
        "from deepdow.utils import raw_to_Xy\n",
        "import matplotlib.pyplot as plt\n",
        "import numpy as np\n",
        "import torch\n",
        "import datetime\n",
        "import pandas as pd\n",
        "import pandas_datareader.data as web"
      ],
      "execution_count": 2,
      "outputs": []
    },
    {
      "cell_type": "markdown",
      "metadata": {
        "id": "VP45XtrlkxbD"
      },
      "source": [
        "# Initialize"
      ]
    },
    {
      "cell_type": "code",
      "metadata": {
        "id": "tribal-turkey"
      },
      "source": [
        "# 获取默认图形尺寸\n",
        "default_figsize = plt.rcParams[\"figure.figsize\"]"
      ],
      "execution_count": 3,
      "outputs": []
    },
    {
      "cell_type": "code",
      "metadata": {
        "id": "duplicate-cosmetic"
      },
      "source": [
        "# set random seed for repeatility\n",
        "torch.manual_seed(4)\n",
        "np.random.seed(5)"
      ],
      "execution_count": 4,
      "outputs": []
    },
    {
      "cell_type": "markdown",
      "metadata": {
        "id": "GuXeEygOkddD"
      },
      "source": [
        "# Data Preprocess"
      ]
    },
    {
      "cell_type": "code",
      "metadata": {
        "id": "4zyVJjnvklcN"
      },
      "source": [
        "# set start and end time\n",
        "start = datetime.datetime(2010, 1, 1) \n",
        "end = datetime.datetime(2020, 12, 31)\n",
        "\n",
        "# Which stocks to use: 京东方、格力电器、平安银行、长江电力\n",
        "# tickers = ['000725.SZ', '000651.SZ', '000001.SZ','600900.SS']\n",
        "tickers = ['AAPL','NFLX','AMZN','KO']\n",
        "# fetch close price\n",
        "raw_df = web.DataReader(tickers, 'yahoo', start=start, end=end)[['Close']]"
      ],
      "execution_count": 7,
      "outputs": []
    },
    {
      "cell_type": "code",
      "metadata": {
        "colab": {
          "base_uri": "https://localhost:8080/",
          "height": 263
        },
        "id": "3nC569c0v1kh",
        "outputId": "0488e386-ca7b-43e6-d4a0-014a93b31baf"
      },
      "source": [
        "# Re-structure the columns\n",
        "raw_df.columns = pd.MultiIndex.from_product([tickers, [\"Close\"]], names=[\"Ticker\", \"Attribute\"]\n",
        ")\n",
        "assert isinstance(raw_df, pd.DataFrame)\n",
        "assert isinstance(raw_df.index, pd.DatetimeIndex)\n",
        "assert isinstance(raw_df.columns, pd.MultiIndex)\n",
        "raw_df.head()"
      ],
      "execution_count": 9,
      "outputs": [
        {
          "output_type": "execute_result",
          "data": {
            "text/html": [
              "<div>\n",
              "<style scoped>\n",
              "    .dataframe tbody tr th:only-of-type {\n",
              "        vertical-align: middle;\n",
              "    }\n",
              "\n",
              "    .dataframe tbody tr th {\n",
              "        vertical-align: top;\n",
              "    }\n",
              "\n",
              "    .dataframe thead tr th {\n",
              "        text-align: left;\n",
              "    }\n",
              "\n",
              "    .dataframe thead tr:last-of-type th {\n",
              "        text-align: right;\n",
              "    }\n",
              "</style>\n",
              "<table border=\"1\" class=\"dataframe\">\n",
              "  <thead>\n",
              "    <tr>\n",
              "      <th>Ticker</th>\n",
              "      <th>AAPL</th>\n",
              "      <th>NFLX</th>\n",
              "      <th>AMZN</th>\n",
              "      <th>KO</th>\n",
              "    </tr>\n",
              "    <tr>\n",
              "      <th>Attribute</th>\n",
              "      <th>Close</th>\n",
              "      <th>Close</th>\n",
              "      <th>Close</th>\n",
              "      <th>Close</th>\n",
              "    </tr>\n",
              "    <tr>\n",
              "      <th>Date</th>\n",
              "      <th></th>\n",
              "      <th></th>\n",
              "      <th></th>\n",
              "      <th></th>\n",
              "    </tr>\n",
              "  </thead>\n",
              "  <tbody>\n",
              "    <tr>\n",
              "      <th>2010-01-04</th>\n",
              "      <td>7.643214</td>\n",
              "      <td>7.640000</td>\n",
              "      <td>133.899994</td>\n",
              "      <td>28.520000</td>\n",
              "    </tr>\n",
              "    <tr>\n",
              "      <th>2010-01-05</th>\n",
              "      <td>7.656429</td>\n",
              "      <td>7.358571</td>\n",
              "      <td>134.690002</td>\n",
              "      <td>28.174999</td>\n",
              "    </tr>\n",
              "    <tr>\n",
              "      <th>2010-01-06</th>\n",
              "      <td>7.534643</td>\n",
              "      <td>7.617143</td>\n",
              "      <td>132.250000</td>\n",
              "      <td>28.165001</td>\n",
              "    </tr>\n",
              "    <tr>\n",
              "      <th>2010-01-07</th>\n",
              "      <td>7.520714</td>\n",
              "      <td>7.485714</td>\n",
              "      <td>130.000000</td>\n",
              "      <td>28.094999</td>\n",
              "    </tr>\n",
              "    <tr>\n",
              "      <th>2010-01-08</th>\n",
              "      <td>7.570714</td>\n",
              "      <td>7.614286</td>\n",
              "      <td>133.520004</td>\n",
              "      <td>27.575001</td>\n",
              "    </tr>\n",
              "  </tbody>\n",
              "</table>\n",
              "</div>"
            ],
            "text/plain": [
              "Ticker          AAPL      NFLX        AMZN         KO\n",
              "Attribute      Close     Close       Close      Close\n",
              "Date                                                 \n",
              "2010-01-04  7.643214  7.640000  133.899994  28.520000\n",
              "2010-01-05  7.656429  7.358571  134.690002  28.174999\n",
              "2010-01-06  7.534643  7.617143  132.250000  28.165001\n",
              "2010-01-07  7.520714  7.485714  130.000000  28.094999\n",
              "2010-01-08  7.570714  7.614286  133.520004  27.575001"
            ]
          },
          "metadata": {
            "tags": []
          },
          "execution_count": 9
        }
      ]
    },
    {
      "cell_type": "markdown",
      "metadata": {
        "id": "tpKrLQVFxMhl"
      },
      "source": [
        "Fill in with pandas-defined business days since that's used in DeepDow. Use ffill and bfill to copy the previous/next day's closing price assuming no change on days not provided from source.\n",
        "\n",
        "Note: Chinese trading days are different than pandas business days"
      ]
    },
    {
      "cell_type": "code",
      "metadata": {
        "colab": {
          "base_uri": "https://localhost:8080/"
        },
        "id": "3ZC6vzcpwYNP",
        "outputId": "2e98703b-2289-46f9-d50f-0358dcbe8951"
      },
      "source": [
        "index = pd.date_range(start=raw_df.index[0], end=raw_df.index[-1], freq=\"B\")\n",
        "\n",
        "print(f\"Num records before fill: {len(raw_df)}\")\n",
        "raw_df = pd.DataFrame(raw_df, index=index).ffill().bfill()\n",
        "print(f\"Num records after fill: {len(raw_df)}\")"
      ],
      "execution_count": 10,
      "outputs": [
        {
          "output_type": "stream",
          "text": [
            "Num records before fill: 2769\n",
            "Num records after fill: 2869\n"
          ],
          "name": "stdout"
        }
      ]
    },
    {
      "cell_type": "markdown",
      "metadata": {
        "id": "CG4pHpDZztxG"
      },
      "source": [
        "# Creat Database"
      ]
    },
    {
      "cell_type": "markdown",
      "metadata": {
        "id": "zY2-q1Ryz5m2"
      },
      "source": [
        "Derive some parameters for use in creating datasets"
      ]
    },
    {
      "cell_type": "code",
      "metadata": {
        "id": "LiiFb6-Cz6uv"
      },
      "source": [
        "n_timesteps = len(raw_df)\n",
        "n_channels = len(raw_df.columns.levels[1])\n",
        "n_assets = len(raw_df.columns.levels[0])"
      ],
      "execution_count": 11,
      "outputs": []
    },
    {
      "cell_type": "code",
      "metadata": {
        "colab": {
          "base_uri": "https://localhost:8080/"
        },
        "id": "GnemiWCS0BSI",
        "outputId": "15d0293f-f6ae-4730-d910-15e967a73407"
      },
      "source": [
        "print('Timesteps = '+ str(n_timesteps))\n",
        "print('Channels = '+ str(n_channels))\n",
        "print('Assets = '+ str(n_assets))"
      ],
      "execution_count": 12,
      "outputs": [
        {
          "output_type": "stream",
          "text": [
            "Timesteps = 2869\n",
            "Channels = 1\n",
            "Assets = 4\n"
          ],
          "name": "stdout"
        }
      ]
    },
    {
      "cell_type": "code",
      "metadata": {
        "id": "vwASB1aL6g5C"
      },
      "source": [
        "lookback = 50  # Number of timesteps to look back, e.g. length of X in time\n",
        "gap = 1  # Gap between end of X and start of y for each data sample\n",
        "horizon = 5  # Number of timesteps to use for prediction"
      ],
      "execution_count": 13,
      "outputs": []
    },
    {
      "cell_type": "markdown",
      "metadata": {
        "id": "aggregate-introduction"
      },
      "source": [
        "Generate the splits for train and test"
      ]
    },
    {
      "cell_type": "code",
      "metadata": {
        "id": "south-dealing"
      },
      "source": [
        "X, timestamps, y, asset_names, indicators = raw_to_Xy(\n",
        "    raw_df, lookback=lookback, gap=gap, freq=\"B\", horizon=horizon\n",
        ")"
      ],
      "execution_count": 14,
      "outputs": []
    },
    {
      "cell_type": "code",
      "metadata": {
        "colab": {
          "base_uri": "https://localhost:8080/"
        },
        "id": "Ol3ixIUy7_Rn",
        "outputId": "cd330fb5-0052-4c2b-e996-cb7bc9e6d904"
      },
      "source": [
        "n_samples = n_timesteps - lookback - horizon - gap \n",
        "n_samples"
      ],
      "execution_count": 15,
      "outputs": [
        {
          "output_type": "execute_result",
          "data": {
            "text/plain": [
              "2813"
            ]
          },
          "metadata": {
            "tags": []
          },
          "execution_count": 15
        }
      ]
    },
    {
      "cell_type": "code",
      "metadata": {
        "colab": {
          "base_uri": "https://localhost:8080/"
        },
        "id": "zXHJcmbH7TyT",
        "outputId": "83404189-f488-4635-9f81-92623489e5a5"
      },
      "source": [
        "split_ix = int(n_samples * 0.9)\n",
        "indices_train = list(range(split_ix))\n",
        "indices_test = list(range(split_ix + lookback + horizon, n_samples))\n",
        "\n",
        "print('Train range: {}:{}\\nTest range: {}:{}'.format(indices_train[0], indices_train[-1],\n",
        "                                                     indices_test[0], indices_test[-1]))"
      ],
      "execution_count": 16,
      "outputs": [
        {
          "output_type": "stream",
          "text": [
            "Train range: 0:2530\n",
            "Test range: 2586:2812\n"
          ],
          "name": "stdout"
        }
      ]
    },
    {
      "cell_type": "markdown",
      "metadata": {
        "id": "yNuk-1Pt9neG"
      },
      "source": [
        "Convert `Xy` format to `InRAMDDataset` for loadin during training."
      ]
    },
    {
      "cell_type": "code",
      "metadata": {
        "id": "Vh1sgRG79N6O"
      },
      "source": [
        "dataset = InRAMDataset(X, y, timestamps=timestamps, asset_names=asset_names)\n",
        "\n",
        "X_sample, y_sample, timestamp_sample, asset_names = dataset[0]"
      ],
      "execution_count": 17,
      "outputs": []
    },
    {
      "cell_type": "markdown",
      "metadata": {
        "id": "looking-click"
      },
      "source": [
        "Create a data loader for training from the dataset: \n",
        "* one for train\n",
        "* one for test"
      ]
    },
    {
      "cell_type": "code",
      "metadata": {
        "id": "K31L30Ow88lS"
      },
      "source": [
        "dataloader_train = RigidDataLoader(dataset, indices=indices_train, batch_size=64)\n",
        "\n",
        "dataloader_test = RigidDataLoader(dataset, indices=indices_test, batch_size=64)"
      ],
      "execution_count": 18,
      "outputs": []
    },
    {
      "cell_type": "markdown",
      "metadata": {
        "id": "0qMHExty97i9"
      },
      "source": [
        "Print a sample to get acquainted with the format"
      ]
    },
    {
      "cell_type": "code",
      "metadata": {
        "colab": {
          "base_uri": "https://localhost:8080/"
        },
        "id": "nV_B9bkG8RjS",
        "outputId": "003b6fe2-b702-45ed-f6b1-2e2bbd67b0ab"
      },
      "source": [
        "X_batch, y_batch, timestamps_batch, asset_names_batch = next(iter(dataloader_test))\n",
        "print(f\"X_batch shape: {X_batch.shape}\")\n",
        "print(f\"y_batch shape: {y_batch.shape}\")\n",
        "print(f\"Asset names: {asset_names_batch}\")\n",
        "print(f\"Num Timestamps: {len(timestamps_batch)}, sample: {timestamps_batch[0]}\")"
      ],
      "execution_count": 19,
      "outputs": [
        {
          "output_type": "stream",
          "text": [
            "X_batch shape: torch.Size([64, 1, 50, 4])\n",
            "y_batch shape: torch.Size([64, 1, 5, 4])\n",
            "Asset names: ['AAPL', 'AMZN', 'KO', 'NFLX']\n",
            "Num Timestamps: 64, sample: 2020-03-16 00:00:00\n"
          ],
          "name": "stdout"
        }
      ]
    },
    {
      "cell_type": "code",
      "metadata": {
        "colab": {
          "base_uri": "https://localhost:8080/"
        },
        "id": "xO33V6Vm-aNZ",
        "outputId": "511982bd-32f0-4171-9246-e4fca21c1d03"
      },
      "source": [
        "loaders = {\"train\": dataloader_train, \"test\": dataloader_test}\n",
        "date_ranges = {}\n",
        "for label, d in loaders.items():\n",
        "    minval = pd.Timestamp(\"2100-01-01 00:00:00\", freq=\"B\")\n",
        "    maxval = pd.Timestamp(\"1970-01-01 00:00:00\", freq=\"B\")\n",
        "    for _,_,c,_ in d:\n",
        "        if min(c) < minval:\n",
        "            minval = min(c)\n",
        "        if max(c) > maxval:\n",
        "            maxval = max(c)        \n",
        "    date_ranges[label] = (minval, maxval)\n",
        "    \n",
        "print(\"Date ranges for each dataset:\\n\")\n",
        "print(*[f\"{k}: {v}\\n\" for k,v in date_ranges.items()])"
      ],
      "execution_count": 20,
      "outputs": [
        {
          "output_type": "stream",
          "text": [
            "Date ranges for each dataset:\n",
            "\n",
            "train: (Timestamp('2010-03-15 00:00:00', freq='B'), Timestamp('2019-11-25 00:00:00', freq='B'))\n",
            " test: (Timestamp('2020-02-11 00:00:00', freq='B'), Timestamp('2020-12-23 00:00:00', freq='B'))\n",
            "\n"
          ],
          "name": "stdout"
        }
      ]
    },
    {
      "cell_type": "markdown",
      "metadata": {
        "id": "uhr13SKq-d3M"
      },
      "source": [
        "# Creat Network"
      ]
    },
    {
      "cell_type": "code",
      "metadata": {
        "colab": {
          "base_uri": "https://localhost:8080/"
        },
        "id": "rgjvGzeC_sU9",
        "outputId": "e0927543-2d48-4d72-85d2-899d251f046d"
      },
      "source": [
        "network = KeynesNet(1,hidden_size=64)\n",
        "print(network)"
      ],
      "execution_count": 21,
      "outputs": [
        {
          "output_type": "stream",
          "text": [
            "KeynesNet(\n",
            "  (transform_layer): RNN(\n",
            "    (cell): LSTM(1, 64)\n",
            "  )\n",
            "  (norm_layer_1): InstanceNorm2d(1, eps=1e-05, momentum=0.1, affine=True, track_running_stats=False)\n",
            "  (norm_layer_2): GroupNorm(4, 64, eps=1e-05, affine=True)\n",
            "  (time_collapse_layer): AverageCollapse()\n",
            "  (channel_collapse_layer): AverageCollapse()\n",
            "  (portfolio_opt_layer): SoftmaxAllocator(\n",
            "    (layer): Softmax(dim=1)\n",
            "  )\n",
            ")\n"
          ],
          "name": "stdout"
        }
      ]
    },
    {
      "cell_type": "code",
      "metadata": {
        "id": "p66sW4nNElUj"
      },
      "source": [
        "network = network.train()"
      ],
      "execution_count": 22,
      "outputs": []
    },
    {
      "cell_type": "code",
      "metadata": {
        "id": "0MZJVz4uEuu4"
      },
      "source": [
        "loss =SharpeRatio()"
      ],
      "execution_count": 23,
      "outputs": []
    },
    {
      "cell_type": "code",
      "metadata": {
        "id": "sq674NfTE5f8"
      },
      "source": [
        "run = Run(network,\n",
        "          loss,\n",
        "          dataloader_train,\n",
        "          val_dataloaders={'test': dataloader_test},\n",
        "          optimizer=torch.optim.Adam(network.parameters(), amsgrad=True),\n",
        "          callbacks=[EarlyStoppingCallback(metric_name='loss', dataloader_name='test', patience=15)\n",
        "                  ])"
      ],
      "execution_count": 24,
      "outputs": []
    },
    {
      "cell_type": "markdown",
      "metadata": {
        "id": "formal-english"
      },
      "source": [
        "## Train the network"
      ]
    },
    {
      "cell_type": "code",
      "metadata": {
        "colab": {
          "base_uri": "https://localhost:8080/"
        },
        "id": "iY9S63UoFsvj",
        "collapsed": true,
        "outputId": "ed08c5cd-0944-41a1-c470-445cdf164e20"
      },
      "source": [
        "history = run.launch(30)"
      ],
      "execution_count": 25,
      "outputs": [
        {
          "output_type": "stream",
          "text": [
            "Epoch 0: 100%|██████████| 40/40 [00:30<00:00,  1.33it/s, loss=-0.16444, test_loss=-0.16210]\n",
            "Epoch 1: 100%|██████████| 40/40 [00:30<00:00,  1.33it/s, loss=-0.16577, test_loss=-0.16254]\n",
            "Epoch 2: 100%|██████████| 40/40 [00:29<00:00,  1.33it/s, loss=-0.16876, test_loss=-0.16508]\n",
            "Epoch 3: 100%|██████████| 40/40 [00:30<00:00,  1.33it/s, loss=-0.16652, test_loss=-0.16205]\n",
            "Epoch 4: 100%|██████████| 40/40 [00:30<00:00,  1.32it/s, loss=-0.16645, test_loss=-0.16602]\n",
            "Epoch 5: 100%|██████████| 40/40 [00:30<00:00,  1.32it/s, loss=-0.17288, test_loss=-0.16099]\n",
            "Epoch 6: 100%|██████████| 40/40 [00:30<00:00,  1.31it/s, loss=-0.16887, test_loss=-0.16321]\n",
            "Epoch 7: 100%|██████████| 40/40 [00:29<00:00,  1.33it/s, loss=-0.17073, test_loss=-0.16781]\n",
            "Epoch 8: 100%|██████████| 40/40 [00:30<00:00,  1.33it/s, loss=-0.16486, test_loss=-0.16135]\n",
            "Epoch 9: 100%|██████████| 40/40 [00:30<00:00,  1.32it/s, loss=-0.16574, test_loss=-0.16170]\n",
            "Epoch 10: 100%|██████████| 40/40 [00:30<00:00,  1.33it/s, loss=-0.16455, test_loss=-0.16195]\n",
            "Epoch 11: 100%|██████████| 40/40 [00:30<00:00,  1.31it/s, loss=-0.16601, test_loss=-0.16224]\n",
            "Epoch 12: 100%|██████████| 40/40 [00:30<00:00,  1.33it/s, loss=-0.16554, test_loss=-0.16299]\n",
            "Epoch 13: 100%|██████████| 40/40 [00:30<00:00,  1.32it/s, loss=-0.16961, test_loss=-0.16291]\n",
            "Epoch 14: 100%|██████████| 40/40 [00:30<00:00,  1.31it/s, loss=-0.17005, test_loss=-0.16694]\n",
            "Epoch 15: 100%|██████████| 40/40 [00:30<00:00,  1.31it/s, loss=-0.17151, test_loss=-0.16318]\n",
            "Epoch 16: 100%|██████████| 40/40 [00:30<00:00,  1.30it/s, loss=-0.17480, test_loss=-0.16851]\n",
            "Epoch 17: 100%|██████████| 40/40 [00:30<00:00,  1.33it/s, loss=-0.17597, test_loss=-0.17279]\n",
            "Epoch 18: 100%|██████████| 40/40 [00:30<00:00,  1.32it/s, loss=-0.17500, test_loss=-0.17286]\n",
            "Epoch 19: 100%|██████████| 40/40 [00:30<00:00,  1.31it/s, loss=-0.17411, test_loss=-0.16648]\n",
            "Epoch 20: 100%|██████████| 40/40 [00:30<00:00,  1.32it/s, loss=-0.17516, test_loss=-0.18032]\n",
            "Epoch 21: 100%|██████████| 40/40 [00:30<00:00,  1.32it/s, loss=-0.17651, test_loss=-0.18193]\n",
            "Epoch 22: 100%|██████████| 40/40 [00:30<00:00,  1.31it/s, loss=-0.17792, test_loss=-0.18097]\n",
            "Epoch 23: 100%|██████████| 40/40 [00:30<00:00,  1.32it/s, loss=-0.17644, test_loss=-0.17665]\n",
            "Epoch 24: 100%|██████████| 40/40 [00:30<00:00,  1.30it/s, loss=-0.17872, test_loss=-0.17533]\n",
            "Epoch 25: 100%|██████████| 40/40 [00:30<00:00,  1.29it/s, loss=-0.17914, test_loss=-0.18132]\n",
            "Epoch 26: 100%|██████████| 40/40 [00:30<00:00,  1.32it/s, loss=-0.17902, test_loss=-0.17567]\n",
            "Epoch 27: 100%|██████████| 40/40 [00:30<00:00,  1.31it/s, loss=-0.18046, test_loss=-0.17501]\n",
            "Epoch 28: 100%|██████████| 40/40 [00:30<00:00,  1.31it/s, loss=-0.17839, test_loss=-0.16749]\n",
            "Epoch 29: 100%|██████████| 40/40 [00:30<00:00,  1.33it/s, loss=-0.18025, test_loss=-0.17288]\n"
          ],
          "name": "stderr"
        }
      ]
    },
    {
      "cell_type": "code",
      "metadata": {
        "colab": {
          "base_uri": "https://localhost:8080/"
        },
        "id": "QOkRvdCs7qqk",
        "outputId": "3d2af947-5b13-45d0-d38e-628938c04e5a"
      },
      "source": [
        "per_epoch_results = history.metrics.groupby(['dataloader', 'metric', 'model', 'epoch'])['value']\n",
        "\n",
        "print(per_epoch_results.count())  # 计算每个周期样本数量\n",
        "print(per_epoch_results.mean())  # 计算每个epoch的平均loss"
      ],
      "execution_count": 26,
      "outputs": [
        {
          "output_type": "stream",
          "text": [
            "dataloader  metric  model    epoch\n",
            "test        loss    network  0        227\n",
            "                             1        227\n",
            "                             2        227\n",
            "                             3        227\n",
            "                             4        227\n",
            "                             5        227\n",
            "                             6        227\n",
            "                             7        227\n",
            "                             8        227\n",
            "                             9        227\n",
            "                             10       227\n",
            "                             11       227\n",
            "                             12       227\n",
            "                             13       227\n",
            "                             14       227\n",
            "                             15       227\n",
            "                             16       227\n",
            "                             17       227\n",
            "                             18       227\n",
            "                             19       227\n",
            "                             20       227\n",
            "                             21       227\n",
            "                             22       227\n",
            "                             23       227\n",
            "                             24       227\n",
            "                             25       227\n",
            "                             26       227\n",
            "                             27       227\n",
            "                             28       227\n",
            "                             29       227\n",
            "Name: value, dtype: int64\n",
            "dataloader  metric  model    epoch\n",
            "test        loss    network  0       -0.162098\n",
            "                             1       -0.162536\n",
            "                             2       -0.165085\n",
            "                             3       -0.162052\n",
            "                             4       -0.166023\n",
            "                             5       -0.160991\n",
            "                             6       -0.163212\n",
            "                             7       -0.167812\n",
            "                             8       -0.161355\n",
            "                             9       -0.161701\n",
            "                             10      -0.161950\n",
            "                             11      -0.162244\n",
            "                             12      -0.162990\n",
            "                             13      -0.162911\n",
            "                             14      -0.166945\n",
            "                             15      -0.163180\n",
            "                             16      -0.168510\n",
            "                             17      -0.172790\n",
            "                             18      -0.172858\n",
            "                             19      -0.166477\n",
            "                             20      -0.180322\n",
            "                             21      -0.181928\n",
            "                             22      -0.180966\n",
            "                             23      -0.176655\n",
            "                             24      -0.175330\n",
            "                             25      -0.181315\n",
            "                             26      -0.175667\n",
            "                             27      -0.175008\n",
            "                             28      -0.167488\n",
            "                             29      -0.172878\n",
            "Name: value, dtype: float64\n"
          ],
          "name": "stdout"
        }
      ]
    },
    {
      "cell_type": "code",
      "metadata": {
        "colab": {
          "base_uri": "https://localhost:8080/",
          "height": 301
        },
        "id": "yPP7A1hYArN2",
        "outputId": "d7a00c52-0f12-4a94-841e-097ece869580"
      },
      "source": [
        "per_epoch_results.mean()['test']['loss']['network'].plot()"
      ],
      "execution_count": 27,
      "outputs": [
        {
          "output_type": "execute_result",
          "data": {
            "text/plain": [
              "<matplotlib.axes._subplots.AxesSubplot at 0x7fd50a274390>"
            ]
          },
          "metadata": {
            "tags": []
          },
          "execution_count": 27
        },
        {
          "output_type": "display_data",
          "data": {
            "image/png": "[encoded data removed]",
            "text/plain": [
              "<Figure size 432x288 with 1 Axes>"
            ]
          },
          "metadata": {
            "tags": [],
            "needs_background": "light"
          }
        }
      ]
    },
    {
      "cell_type": "code",
      "metadata": {
        "id": "solid-cursor"
      },
      "source": [
        "network = network.eval()"
      ],
      "execution_count": 28,
      "outputs": []
    },
    {
      "cell_type": "code",
      "metadata": {
        "id": "parental-intranet"
      },
      "source": [
        "# Assign benchmarks. Recall: IBM does poorly. Amazon does well.\n",
        "# First add the individual stocks\n",
        "benchmarks = {asset_name: Singleton(asset_ix=i) for i, asset_name in enumerate(asset_names_batch)}\n",
        "\n",
        "# Now add the others\n",
        "benchmarks[\"1overN\"] = OneOverN()  # each asset has weight 1 / n_assets\n",
        "benchmarks[\"random\"] = Random()  # random allocation that is however close 1OverN\n",
        "benchmarks[\"network\"] = network  # our trained network\n",
        "\n",
        "# Include metrics. Selected two, since using only one bombs out at time of writing\n",
        "# NOTE: We are using `simple` here for the mean return, whereas most of the training and data config above is in log-space by default.\n",
        "metrics = {\n",
        "    \"Sharpe\": SharpeRatio(),\n",
        "    \"MeanReturn\": MeanReturns(output_type=\"simple\"),\n",
        "    \"MaxDD\": MaximumDrawdown(),\n",
        "}\n"
      ],
      "execution_count": 29,
      "outputs": []
    },
    {
      "cell_type": "code",
      "metadata": {
        "id": "_Hk8qeVHYbna"
      },
      "source": [
        "metrics_table = generate_metrics_table(benchmarks, dataloader_test, metrics)"
      ],
      "execution_count": 30,
      "outputs": []
    },
    {
      "cell_type": "code",
      "metadata": {
        "id": "NvjdRWLpdzpz"
      },
      "source": [
        "metrics_table['value'] *= -1"
      ],
      "execution_count": 31,
      "outputs": []
    },
    {
      "cell_type": "code",
      "metadata": {
        "colab": {
          "base_uri": "https://localhost:8080/",
          "height": 202
        },
        "id": "drQSS3gMd56I",
        "outputId": "01fd4a40-73a6-46e5-ac88-22214e95df47"
      },
      "source": [
        "metrics_table.tail()"
      ],
      "execution_count": 32,
      "outputs": [
        {
          "output_type": "execute_result",
          "data": {
            "text/html": [
              "<div>\n",
              "<style scoped>\n",
              "    .dataframe tbody tr th:only-of-type {\n",
              "        vertical-align: middle;\n",
              "    }\n",
              "\n",
              "    .dataframe tbody tr th {\n",
              "        vertical-align: top;\n",
              "    }\n",
              "\n",
              "    .dataframe thead th {\n",
              "        text-align: right;\n",
              "    }\n",
              "</style>\n",
              "<table border=\"1\" class=\"dataframe\">\n",
              "  <thead>\n",
              "    <tr style=\"text-align: right;\">\n",
              "      <th></th>\n",
              "      <th>timestamp</th>\n",
              "      <th>benchmark</th>\n",
              "      <th>metric</th>\n",
              "      <th>value</th>\n",
              "    </tr>\n",
              "  </thead>\n",
              "  <tbody>\n",
              "    <tr>\n",
              "      <th>30</th>\n",
              "      <td>2020-02-25</td>\n",
              "      <td>network</td>\n",
              "      <td>MaxDD</td>\n",
              "      <td>-0.020650</td>\n",
              "    </tr>\n",
              "    <tr>\n",
              "      <th>31</th>\n",
              "      <td>2020-11-03</td>\n",
              "      <td>network</td>\n",
              "      <td>MaxDD</td>\n",
              "      <td>-0.000807</td>\n",
              "    </tr>\n",
              "    <tr>\n",
              "      <th>32</th>\n",
              "      <td>2020-03-05</td>\n",
              "      <td>network</td>\n",
              "      <td>MaxDD</td>\n",
              "      <td>-0.124556</td>\n",
              "    </tr>\n",
              "    <tr>\n",
              "      <th>33</th>\n",
              "      <td>2020-09-18</td>\n",
              "      <td>network</td>\n",
              "      <td>MaxDD</td>\n",
              "      <td>-0.035949</td>\n",
              "    </tr>\n",
              "    <tr>\n",
              "      <th>34</th>\n",
              "      <td>2020-04-09</td>\n",
              "      <td>network</td>\n",
              "      <td>MaxDD</td>\n",
              "      <td>-0.015306</td>\n",
              "    </tr>\n",
              "  </tbody>\n",
              "</table>\n",
              "</div>"
            ],
            "text/plain": [
              "    timestamp benchmark metric     value\n",
              "30 2020-02-25   network  MaxDD -0.020650\n",
              "31 2020-11-03   network  MaxDD -0.000807\n",
              "32 2020-03-05   network  MaxDD -0.124556\n",
              "33 2020-09-18   network  MaxDD -0.035949\n",
              "34 2020-04-09   network  MaxDD -0.015306"
            ]
          },
          "metadata": {
            "tags": []
          },
          "execution_count": 32
        }
      ]
    },
    {
      "cell_type": "code",
      "metadata": {
        "colab": {
          "base_uri": "https://localhost:8080/",
          "height": 504
        },
        "id": "4JlM4ZI9elHM",
        "outputId": "5375a87e-acad-4b42-9a87-0c1112b2cee6"
      },
      "source": [
        "plot_metrics(metrics_table)"
      ],
      "execution_count": 33,
      "outputs": [
        {
          "output_type": "stream",
          "text": [
            "/usr/local/lib/python3.7/dist-packages/deepdow/visualize.py:177: UserWarning: Tight layout not applied. tight_layout cannot make axes height small enough to accommodate all axes decorations\n",
            "  plt.tight_layout()\n"
          ],
          "name": "stderr"
        },
        {
          "output_type": "execute_result",
          "data": {
            "text/plain": [
              "array([<matplotlib.axes._subplots.AxesSubplot object at 0x7fd50f02f790>,\n",
              "       <matplotlib.axes._subplots.AxesSubplot object at 0x7fd509ca6d90>,\n",
              "       <matplotlib.axes._subplots.AxesSubplot object at 0x7fd509cb3410>],\n",
              "      dtype=object)"
            ]
          },
          "metadata": {
            "tags": []
          },
          "execution_count": 33
        },
        {
          "output_type": "display_data",
          "data": {
            "image/png": "[encoded data removed]",
            "text/plain": [
              "<Figure size 432x288 with 3 Axes>"
            ]
          },
          "metadata": {
            "tags": [],
            "needs_background": "light"
          }
        }
      ]
    },
    {
      "cell_type": "code",
      "metadata": {
        "colab": {
          "base_uri": "https://localhost:8080/",
          "height": 415
        },
        "id": "e0UGA4mRfIEt",
        "outputId": "2347b370-db75-4cc8-b7a7-682c97e4f8c5"
      },
      "source": [
        "weight_table = generate_weights_table(network, dataloader_test)\n",
        "weight_table"
      ],
      "execution_count": 34,
      "outputs": [
        {
          "output_type": "execute_result",
          "data": {
            "text/html": [
              "<div>\n",
              "<style scoped>\n",
              "    .dataframe tbody tr th:only-of-type {\n",
              "        vertical-align: middle;\n",
              "    }\n",
              "\n",
              "    .dataframe tbody tr th {\n",
              "        vertical-align: top;\n",
              "    }\n",
              "\n",
              "    .dataframe thead th {\n",
              "        text-align: right;\n",
              "    }\n",
              "</style>\n",
              "<table border=\"1\" class=\"dataframe\">\n",
              "  <thead>\n",
              "    <tr style=\"text-align: right;\">\n",
              "      <th></th>\n",
              "      <th>AAPL</th>\n",
              "      <th>AMZN</th>\n",
              "      <th>KO</th>\n",
              "      <th>NFLX</th>\n",
              "    </tr>\n",
              "  </thead>\n",
              "  <tbody>\n",
              "    <tr>\n",
              "      <th>2020-02-11</th>\n",
              "      <td>0.503069</td>\n",
              "      <td>0.156258</td>\n",
              "      <td>0.209786</td>\n",
              "      <td>0.130887</td>\n",
              "    </tr>\n",
              "    <tr>\n",
              "      <th>2020-02-12</th>\n",
              "      <td>0.516011</td>\n",
              "      <td>0.167123</td>\n",
              "      <td>0.185173</td>\n",
              "      <td>0.131693</td>\n",
              "    </tr>\n",
              "    <tr>\n",
              "      <th>2020-02-13</th>\n",
              "      <td>0.397813</td>\n",
              "      <td>0.289646</td>\n",
              "      <td>0.181222</td>\n",
              "      <td>0.131318</td>\n",
              "    </tr>\n",
              "    <tr>\n",
              "      <th>2020-02-14</th>\n",
              "      <td>0.378247</td>\n",
              "      <td>0.288146</td>\n",
              "      <td>0.200564</td>\n",
              "      <td>0.133043</td>\n",
              "    </tr>\n",
              "    <tr>\n",
              "      <th>2020-02-17</th>\n",
              "      <td>0.397192</td>\n",
              "      <td>0.271860</td>\n",
              "      <td>0.200256</td>\n",
              "      <td>0.130693</td>\n",
              "    </tr>\n",
              "    <tr>\n",
              "      <th>...</th>\n",
              "      <td>...</td>\n",
              "      <td>...</td>\n",
              "      <td>...</td>\n",
              "      <td>...</td>\n",
              "    </tr>\n",
              "    <tr>\n",
              "      <th>2020-12-17</th>\n",
              "      <td>0.266953</td>\n",
              "      <td>0.209634</td>\n",
              "      <td>0.315935</td>\n",
              "      <td>0.207479</td>\n",
              "    </tr>\n",
              "    <tr>\n",
              "      <th>2020-12-18</th>\n",
              "      <td>0.288560</td>\n",
              "      <td>0.230919</td>\n",
              "      <td>0.255846</td>\n",
              "      <td>0.224675</td>\n",
              "    </tr>\n",
              "    <tr>\n",
              "      <th>2020-12-21</th>\n",
              "      <td>0.289785</td>\n",
              "      <td>0.250801</td>\n",
              "      <td>0.216352</td>\n",
              "      <td>0.243062</td>\n",
              "    </tr>\n",
              "    <tr>\n",
              "      <th>2020-12-22</th>\n",
              "      <td>0.264279</td>\n",
              "      <td>0.228527</td>\n",
              "      <td>0.286795</td>\n",
              "      <td>0.220398</td>\n",
              "    </tr>\n",
              "    <tr>\n",
              "      <th>2020-12-23</th>\n",
              "      <td>0.280675</td>\n",
              "      <td>0.243074</td>\n",
              "      <td>0.242119</td>\n",
              "      <td>0.234132</td>\n",
              "    </tr>\n",
              "  </tbody>\n",
              "</table>\n",
              "<p>227 rows × 4 columns</p>\n",
              "</div>"
            ],
            "text/plain": [
              "                AAPL      AMZN        KO      NFLX\n",
              "2020-02-11  0.503069  0.156258  0.209786  0.130887\n",
              "2020-02-12  0.516011  0.167123  0.185173  0.131693\n",
              "2020-02-13  0.397813  0.289646  0.181222  0.131318\n",
              "2020-02-14  0.378247  0.288146  0.200564  0.133043\n",
              "2020-02-17  0.397192  0.271860  0.200256  0.130693\n",
              "...              ...       ...       ...       ...\n",
              "2020-12-17  0.266953  0.209634  0.315935  0.207479\n",
              "2020-12-18  0.288560  0.230919  0.255846  0.224675\n",
              "2020-12-21  0.289785  0.250801  0.216352  0.243062\n",
              "2020-12-22  0.264279  0.228527  0.286795  0.220398\n",
              "2020-12-23  0.280675  0.243074  0.242119  0.234132\n",
              "\n",
              "[227 rows x 4 columns]"
            ]
          },
          "metadata": {
            "tags": []
          },
          "execution_count": 34
        }
      ]
    },
    {
      "cell_type": "code",
      "metadata": {
        "colab": {
          "base_uri": "https://localhost:8080/",
          "height": 307
        },
        "id": "PfdMZX4ffQC9",
        "outputId": "0bf099c6-48d9-4dbd-8b07-64f5443c0276"
      },
      "source": [
        "plot_weight_heatmap(weight_table,\n",
        "                    add_sum_column=True,\n",
        "                    time_format=None,\n",
        "                    time_skips=25)"
      ],
      "execution_count": 35,
      "outputs": [
        {
          "output_type": "execute_result",
          "data": {
            "text/plain": [
              "<matplotlib.axes._subplots.AxesSubplot at 0x7fd5018bef10>"
            ]
          },
          "metadata": {
            "tags": []
          },
          "execution_count": 35
        },
        {
          "output_type": "display_data",
          "data": {
            "image/png": "[encoded data removed]",
            "text/plain": [
              "<Figure size 432x288 with 2 Axes>"
            ]
          },
          "metadata": {
            "tags": [],
            "needs_background": "light"
          }
        }
      ]
    },
    {
      "cell_type": "code",
      "metadata": {
        "id": "aGmFTRMRwFN8"
      },
      "source": [
        "benchmark_num = metrics_table['benchmark'].unique()\n",
        "metric_num = metrics_table['metric'].unique()"
      ],
      "execution_count": 36,
      "outputs": []
    },
    {
      "cell_type": "code",
      "metadata": {
        "colab": {
          "base_uri": "https://localhost:8080/"
        },
        "id": "ri1da2N0nvyv",
        "outputId": "4269012a-3283-4297-a02d-1ff604de0755"
      },
      "source": [
        "df2=pd.DataFrame(np.random.randn(len(benchmark_num),len(metric_num)),\n",
        "                 index=list(benchmark_num),\n",
        "                 columns=list(metric_num))\n",
        "for i in benchmark_num:\n",
        "  for j in metric_num:\n",
        "    returns = metrics_table.query(f\"(metric=='{j}') & (benchmark == '{i}')\")\n",
        "    index_num=list(benchmark_num).index(i)\n",
        "    column_num=list(metric_num).index(j)\n",
        "    df2.iloc[index_num][column_num]=returns['value'].mean()\n",
        "    #print(index_num,column_num,returns['value'].mean())\n",
        "print(df2)\n",
        "\n",
        "\n"
      ],
      "execution_count": 37,
      "outputs": [
        {
          "output_type": "stream",
          "text": [
            "           Sharpe  MeanReturn     MaxDD\n",
            "AAPL     0.186884    0.002677 -0.031108\n",
            "AMZN     0.139380    0.002152 -0.028824\n",
            "KO       0.045316   -0.000165 -0.027647\n",
            "NFLX     0.082009    0.001845 -0.034437\n",
            "1overN   0.161869    0.001617 -0.024068\n",
            "random   0.166052    0.001576 -0.025050\n",
            "network  0.172878    0.001711 -0.023754\n"
          ],
          "name": "stdout"
        }
      ]
    }
  ]
}
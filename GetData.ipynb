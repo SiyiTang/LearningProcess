{
  "nbformat": 4,
  "nbformat_minor": 0,
  "metadata": {
    "colab": {
      "name": "GetData.ipynb",
      "provenance": [],
      "toc_visible": true,
      "authorship_tag": "ABX9TyOP4BFtKLI0kgKey2tWgxc7",
      "include_colab_link": true
    },
    "kernelspec": {
      "name": "python3",
      "display_name": "Python 3"
    },
    "language_info": {
      "name": "python"
    }
  },
  "cells": [
    {
      "cell_type": "markdown",
      "metadata": {
        "id": "view-in-github",
        "colab_type": "text"
      },
      "source": [
        "<a href=\"https://colab.research.google.com/github/SiyiTang/LearningProcess/blob/main/GetData.ipynb\" target=\"_parent\"><img src=\"https://colab.research.google.com/assets/colab-badge.svg\" alt=\"Open In Colab\"/></a>"
      ]
    },
    {
      "cell_type": "code",
      "metadata": {
        "colab": {
          "base_uri": "https://localhost:8080/"
        },
        "id": "aXyTtkbWOk5u",
        "outputId": "7c3ec710-40d8-4a00-fa61-d669ebeb472c"
      },
      "source": [
        "# Load the Drive helper and mount\n",
        "from google.colab import drive\n",
        "\n",
        "# This will prompt for authorization.\n",
        "drive.mount('/content/drive')"
      ],
      "execution_count": null,
      "outputs": [
        {
          "output_type": "stream",
          "text": [
            "Mounted at /content/drive\n"
          ],
          "name": "stdout"
        }
      ]
    },
    {
      "cell_type": "code",
      "metadata": {
        "id": "FPT7_JogPAV1"
      },
      "source": [
        "import pandas_datareader.data as web\n",
        "import datetime\n",
        "import pandas as pd\n",
        "import numpy as np\n",
        "import matplotlib.pyplot as plt"
      ],
      "execution_count": 34,
      "outputs": []
    },
    {
      "cell_type": "markdown",
      "metadata": {
        "id": "B6YEHehKQDZy"
      },
      "source": [
        "# 获取数据"
      ]
    },
    {
      "cell_type": "markdown",
      "metadata": {
        "id": "DIrjk3UrPhHy"
      },
      "source": [
        "查看Pandas的操作文档可以发现，第一个参数为股票代码，苹果公司的代码为\"AAPL\"，国内股市采用的输入方式“股票代码”+“对应股市”，上证股票在股票代码后面加上“.SS”，深圳股票在股票代码后面加上“.SZ”。DataReader可从多个金融网站获取到股票数据，如“Yahoo! Finance” 、“Google Finance”等，这里以Yahoo为例。第三、四个参数为股票数据的起始时间断。返回的数据格式为DataFrame。\n"
      ]
    },
    {
      "cell_type": "code",
      "metadata": {
        "id": "tcuFAWpiPcHt"
      },
      "source": [
        "start = datetime.datetime(2017,1,1)#获取数据的时间段-起始时间\n",
        "end = datetime.date.today()#获取数据的时间段-结束时间\n",
        "stock = web.DataReader(\"600797.SS\", \"yahoo\", start, end)#获取浙大网新2017年1月1日至今的股票数据"
      ],
      "execution_count": null,
      "outputs": []
    },
    {
      "cell_type": "markdown",
      "metadata": {
        "id": "623NXN7IP_X5"
      },
      "source": [
        "# 数据分析"
      ]
    },
    {
      "cell_type": "markdown",
      "metadata": {
        "id": "H0ZIJamwQMTn"
      },
      "source": [
        "1、打印DataFrame数据前5行和尾部倒数5行（浙大网新因重大事件停牌至1月6日开始复牌）"
      ]
    },
    {
      "cell_type": "code",
      "metadata": {
        "colab": {
          "base_uri": "https://localhost:8080/"
        },
        "id": "SDcbdjLdQQSh",
        "outputId": "8346ba00-7f26-4cff-ecb4-98ce2b2b9e25"
      },
      "source": [
        "print (stock.head(5))\n",
        "print (stock.tail(5))"
      ],
      "execution_count": null,
      "outputs": [
        {
          "output_type": "stream",
          "text": [
            "                 High        Low       Open      Close      Volume  Adj Close\n",
            "Date                                                                         \n",
            "2017-01-03  18.000000  18.000000  18.000000  18.000000         0.0  17.747011\n",
            "2017-01-04  18.000000  18.000000  18.000000  18.000000         0.0  17.747011\n",
            "2017-01-05  18.000000  18.000000  18.000000  18.000000         0.0  17.747011\n",
            "2017-01-06  17.950001  16.200001  17.950001  16.200001  31539335.0  15.972312\n",
            "2017-01-09  16.180000  14.900000  15.500000  15.420000  31874588.0  15.203275\n",
            "            High   Low  Open  Close      Volume  Adj Close\n",
            "Date                                                      \n",
            "2021-03-29  6.93  6.76  6.88   6.81  11923666.0       6.81\n",
            "2021-03-30  6.79  6.62  6.79   6.69  11568264.0       6.69\n",
            "2021-03-31  6.84  6.68  6.70   6.77  10887085.0       6.77\n",
            "2021-04-01  6.79  6.65  6.79   6.71   7387021.0       6.71\n",
            "2021-04-02  6.80  6.67  6.71   6.71   7940543.0       6.71\n"
          ],
          "name": "stdout"
        }
      ]
    },
    {
      "cell_type": "code",
      "metadata": {
        "colab": {
          "base_uri": "https://localhost:8080/"
        },
        "id": "jimHxcW8Re7T",
        "outputId": "c18c8ab2-ed06-4669-e61a-24f6d9f63e4e"
      },
      "source": [
        " isinstance(stock,pd.DataFrame)"
      ],
      "execution_count": null,
      "outputs": [
        {
          "output_type": "execute_result",
          "data": {
            "text/plain": [
              "True"
            ]
          },
          "metadata": {
            "tags": []
          },
          "execution_count": 12
        }
      ]
    },
    {
      "cell_type": "markdown",
      "metadata": {
        "id": "R5be_6osSlr6"
      },
      "source": [
        "2、打印DataFrame数据索引和列名，索引为时间序列，列信息为开盘价、最高价、最低价、收盘价、复权收盘价、成交量"
      ]
    },
    {
      "cell_type": "code",
      "metadata": {
        "colab": {
          "base_uri": "https://localhost:8080/"
        },
        "id": "PTf02Q9HScc0",
        "outputId": "b0200de5-13f5-48d6-b55f-b6712278b298"
      },
      "source": [
        "print (stock.index)\n",
        "print (stock.columns)"
      ],
      "execution_count": null,
      "outputs": [
        {
          "output_type": "stream",
          "text": [
            "DatetimeIndex(['2017-01-03', '2017-01-04', '2017-01-05', '2017-01-06',\n",
            "               '2017-01-09', '2017-01-10', '2017-01-11', '2017-01-12',\n",
            "               '2017-01-13', '2017-01-16',\n",
            "               ...\n",
            "               '2021-03-22', '2021-03-23', '2021-03-24', '2021-03-25',\n",
            "               '2021-03-26', '2021-03-29', '2021-03-30', '2021-03-31',\n",
            "               '2021-04-01', '2021-04-02'],\n",
            "              dtype='datetime64[ns]', name='Date', length=1032, freq=None)\n",
            "Index(['High', 'Low', 'Open', 'Close', 'Volume', 'Adj Close'], dtype='object')\n"
          ],
          "name": "stdout"
        }
      ]
    },
    {
      "cell_type": "markdown",
      "metadata": {
        "id": "UMG3WtztSv71"
      },
      "source": [
        "3、打印DataFrame数据形状，index长度为1032，columns数为6，即1032个交易日，6项股票数据"
      ]
    },
    {
      "cell_type": "code",
      "metadata": {
        "colab": {
          "base_uri": "https://localhost:8080/"
        },
        "id": "A2bvLRbISuEW",
        "outputId": "1b3d97c1-4626-4982-d763-a3855406478a"
      },
      "source": [
        "print (stock.shape)"
      ],
      "execution_count": null,
      "outputs": [
        {
          "output_type": "stream",
          "text": [
            "(1032, 6)\n"
          ],
          "name": "stdout"
        }
      ]
    },
    {
      "cell_type": "markdown",
      "metadata": {
        "id": "fgoEyhuPS694"
      },
      "source": [
        "4、打印DataFrame数据查看数据是否有缺失，以及每列数据的类型"
      ]
    },
    {
      "cell_type": "code",
      "metadata": {
        "colab": {
          "base_uri": "https://localhost:8080/"
        },
        "id": "lCn1-IrWTGa5",
        "outputId": "8c4cd62e-1625-4ab2-fa3c-219bf73943c5"
      },
      "source": [
        "print (stock.info())"
      ],
      "execution_count": null,
      "outputs": [
        {
          "output_type": "stream",
          "text": [
            "<class 'pandas.core.frame.DataFrame'>\n",
            "DatetimeIndex: 1032 entries, 2017-01-03 to 2021-04-02\n",
            "Data columns (total 6 columns):\n",
            " #   Column     Non-Null Count  Dtype  \n",
            "---  ------     --------------  -----  \n",
            " 0   High       1032 non-null   float64\n",
            " 1   Low        1032 non-null   float64\n",
            " 2   Open       1032 non-null   float64\n",
            " 3   Close      1032 non-null   float64\n",
            " 4   Volume     1032 non-null   float64\n",
            " 5   Adj Close  1032 non-null   float64\n",
            "dtypes: float64(6)\n",
            "memory usage: 56.4 KB\n",
            "None\n"
          ],
          "name": "stdout"
        }
      ]
    },
    {
      "cell_type": "markdown",
      "metadata": {
        "id": "ji9DGTQ1VDEJ"
      },
      "source": [
        "5、打印DataFrame数据每组的统计情况，如最小值、最大值、均值、标准差等"
      ]
    },
    {
      "cell_type": "code",
      "metadata": {
        "colab": {
          "base_uri": "https://localhost:8080/"
        },
        "id": "QZIevZygVGEU",
        "outputId": "98d8fcd1-4131-48b0-bde6-19e3a5af9ed3"
      },
      "source": [
        "print (stock.describe())"
      ],
      "execution_count": 21,
      "outputs": [
        {
          "output_type": "stream",
          "text": [
            "              High          Low  ...        Volume    Adj Close\n",
            "count  1032.000000  1032.000000  ...  1.032000e+03  1032.000000\n",
            "mean     10.499118    10.117432  ...  2.654594e+07    10.224927\n",
            "std       2.452313     2.332334  ...  2.636632e+07     2.333166\n",
            "min       5.990000     5.820000  ...  0.000000e+00     5.860000\n",
            "25%       8.627500     8.407500  ...  1.075778e+07     8.471509\n",
            "50%       9.965000     9.600000  ...  1.756887e+07     9.755732\n",
            "75%      12.385000    12.010000  ...  3.343464e+07    11.992573\n",
            "max      18.000000    18.000000  ...  2.950730e+08    17.747011\n",
            "\n",
            "[8 rows x 6 columns]\n"
          ],
          "name": "stdout"
        }
      ]
    },
    {
      "cell_type": "markdown",
      "metadata": {
        "id": "GbTSaH_vVm2g"
      },
      "source": [
        "6、DataFrame数据中增加涨/跌幅列，涨/跌=（当日Close-上一日Close）/上一日Close*100%\n",
        "\n",
        "（1）添加一列change，存储当日股票价格与前一日收盘价格相比的涨跌数值，即当日Close价格与上一日Close的差值，1月3日这天无上一日数据，因此出现缺失"
      ]
    },
    {
      "cell_type": "code",
      "metadata": {
        "colab": {
          "base_uri": "https://localhost:8080/"
        },
        "id": "oF_LEjkEVsFV",
        "outputId": "40f8b362-1d8a-4c5c-95ef-01ebebbf3f7e"
      },
      "source": [
        "change = stock.Close.diff()\n",
        "stock['Change'] = change\n",
        "print (stock.head(5))"
      ],
      "execution_count": 22,
      "outputs": [
        {
          "output_type": "stream",
          "text": [
            "                 High        Low       Open  ...      Volume  Adj Close    Change\n",
            "Date                                         ...                                 \n",
            "2017-01-03  18.000000  18.000000  18.000000  ...         0.0  17.747011       NaN\n",
            "2017-01-04  18.000000  18.000000  18.000000  ...         0.0  17.747011  0.000000\n",
            "2017-01-05  18.000000  18.000000  18.000000  ...         0.0  17.747011  0.000000\n",
            "2017-01-06  17.950001  16.200001  17.950001  ...  31539335.0  15.972312 -1.799999\n",
            "2017-01-09  16.180000  14.900000  15.500000  ...  31874588.0  15.203275 -0.780001\n",
            "\n",
            "[5 rows x 7 columns]\n"
          ],
          "name": "stdout"
        }
      ]
    },
    {
      "cell_type": "markdown",
      "metadata": {
        "id": "QXmJh-d4V2Mv"
      },
      "source": [
        "（2）对缺失的数据用涨跌值的均值就地替代NaN。"
      ]
    },
    {
      "cell_type": "code",
      "metadata": {
        "id": "_t-E4M-bV51i"
      },
      "source": [
        "change.fillna(change.mean(),inplace=True)"
      ],
      "execution_count": 23,
      "outputs": []
    },
    {
      "cell_type": "markdown",
      "metadata": {
        "id": "Upv-IpbvW6S6"
      },
      "source": [
        "（3）计算涨跌幅度有两种方法，pct_change()算法的思想即是第二项开始向前做减法后再除以第一项，计算得到涨跌幅序列。"
      ]
    },
    {
      "cell_type": "code",
      "metadata": {
        "id": "yfm39GbSW7t_"
      },
      "source": [
        "stock['pct_change'] = (stock['Change'] /stock['Close'].shift(1))#\n",
        "stock['pct_change1'] = stock.Close.pct_change()\n"
      ],
      "execution_count": 25,
      "outputs": []
    },
    {
      "cell_type": "markdown",
      "metadata": {
        "id": "hbdQkRJnV9FC"
      },
      "source": [
        "7、DataFrame数据中增加跳空缺口数值序列，这里定义的缺口为上涨趋势和下跌趋势中的突破缺口，上涨趋势中今天的最低价高于昨天收盘价为向上跳空，下跌趋势中昨天收盘价高于今天最高价为向下跳空。遍历每个交易日后将符合跳空缺口条件的交易日增加缺口数值。\n",
        "\n"
      ]
    },
    {
      "cell_type": "code",
      "metadata": {
        "colab": {
          "base_uri": "https://localhost:8080/"
        },
        "id": "ArsjHJlaWPTJ",
        "outputId": "76d56202-1de9-49ef-becc-65d09b0ae59e"
      },
      "source": [
        "jump_pd = pd.DataFrame()\n",
        "for kl_index in np.arange(1, stock.shape[0]):\n",
        "  today = stock.iloc[kl_index]\n",
        "  yesday = stock.iloc[kl_index-1] #iloc为index值定位\n",
        "  today['preCloae'] = yesday.Close   \n",
        "  if today['pct_change'] > 0 and (today.Low-today['preCloae']) > 0:\n",
        "      today['jump_power'] = (today.Low-today['preCloae'])\n",
        "  elif today['pct_change'] < 0 and (today.High-today['preCloae']) < 0:\n",
        "      today['jump_power'] = (today.High-today['preCloae'])\n",
        "  jump_pd = jump_pd.append(today)        \n",
        "stock['jump_power'] = jump_pd['jump_power']\n",
        "print (stock.loc[\"2017-04-26\":\"2017-06-15\"])#默认打印全部列\n"
      ],
      "execution_count": 31,
      "outputs": [
        {
          "output_type": "stream",
          "text": [
            "/usr/local/lib/python3.7/dist-packages/ipykernel_launcher.py:5: SettingWithCopyWarning: \n",
            "A value is trying to be set on a copy of a slice from a DataFrame\n",
            "\n",
            "See the caveats in the documentation: https://pandas.pydata.org/pandas-docs/stable/user_guide/indexing.html#returning-a-view-versus-a-copy\n",
            "  \"\"\"\n",
            "/usr/local/lib/python3.7/dist-packages/pandas/core/indexing.py:670: SettingWithCopyWarning: \n",
            "A value is trying to be set on a copy of a slice from a DataFrame\n",
            "\n",
            "See the caveats in the documentation: https://pandas.pydata.org/pandas-docs/stable/user_guide/indexing.html#returning-a-view-versus-a-copy\n",
            "  iloc._setitem_with_indexer(indexer, value)\n",
            "/usr/local/lib/python3.7/dist-packages/ipykernel_launcher.py:9: SettingWithCopyWarning: \n",
            "A value is trying to be set on a copy of a slice from a DataFrame\n",
            "\n",
            "See the caveats in the documentation: https://pandas.pydata.org/pandas-docs/stable/user_guide/indexing.html#returning-a-view-versus-a-copy\n",
            "  if __name__ == '__main__':\n",
            "/usr/local/lib/python3.7/dist-packages/ipykernel_launcher.py:7: SettingWithCopyWarning: \n",
            "A value is trying to be set on a copy of a slice from a DataFrame\n",
            "\n",
            "See the caveats in the documentation: https://pandas.pydata.org/pandas-docs/stable/user_guide/indexing.html#returning-a-view-versus-a-copy\n",
            "  import sys\n"
          ],
          "name": "stderr"
        },
        {
          "output_type": "stream",
          "text": [
            "             High    Low   Open  ...  pct_change  pct_change1  jump_power\n",
            "Date                             ...                                     \n",
            "2017-04-26  12.35  12.09  12.16  ...    0.001637     0.001637         NaN\n",
            "2017-04-27  12.18  11.29  12.18  ...   -0.019608    -0.019608   -0.059999\n",
            "2017-04-28  12.09  11.83  11.97  ...    0.000833     0.000833         NaN\n",
            "2017-05-02  12.68  12.22  12.30  ...    0.037469     0.037469    0.210000\n",
            "2017-05-03  12.81  12.36  12.38  ...    0.012038     0.012038         NaN\n",
            "2017-05-04  12.61  12.61  12.61  ...    0.000000     0.000000         NaN\n",
            "2017-05-05  12.61  12.61  12.61  ...    0.000000     0.000000         NaN\n",
            "2017-05-08  12.61  12.61  12.61  ...    0.000000     0.000000         NaN\n",
            "2017-05-09  12.61  12.61  12.61  ...    0.000000     0.000000         NaN\n",
            "2017-05-10  13.87  13.45  13.78  ...    0.099921     0.099921    0.840000\n",
            "2017-05-11  14.50  12.91  14.50  ...   -0.013699    -0.013699         NaN\n",
            "2017-05-12  13.41  12.87  13.03  ...   -0.037281    -0.037281   -0.270000\n",
            "2017-05-15  13.68  13.06  13.38  ...    0.003797     0.003797         NaN\n",
            "2017-05-16  13.28  12.40  12.87  ...   -0.000756    -0.000756         NaN\n",
            "2017-05-17  13.39  12.94  13.11  ...   -0.018925    -0.018925         NaN\n",
            "2017-05-18  12.82  12.46  12.70  ...   -0.037037    -0.037037   -0.140000\n",
            "2017-05-19  12.93  12.43  12.48  ...    0.018430     0.018430         NaN\n",
            "2017-05-22  12.70  12.11  12.62  ...   -0.043273    -0.043273   -0.010000\n",
            "2017-05-23  12.44  11.46  12.27  ...   -0.051809    -0.051809         NaN\n",
            "2017-05-24  11.49  11.01  11.49  ...   -0.015611    -0.015611   -0.040000\n",
            "2017-05-25  11.77  11.17  11.40  ...    0.032599     0.032599         NaN\n",
            "2017-05-26  11.86  11.61  11.66  ...    0.007679     0.007679         NaN\n",
            "2017-05-31  12.09  11.64  12.09  ...   -0.008467    -0.008467         NaN\n",
            "2017-06-01  11.65  11.00  11.59  ...   -0.059778    -0.059778   -0.060000\n",
            "2017-06-02  11.38  10.89  11.10  ...    0.030881     0.030881         NaN\n",
            "2017-06-05  11.45  11.21  11.29  ...    0.002643     0.002643         NaN\n",
            "2017-06-06  11.62  11.29  11.36  ...    0.019332     0.019332         NaN\n",
            "2017-06-07  11.87  11.53  11.59  ...    0.013793     0.013793         NaN\n",
            "2017-06-08  11.76  11.76  11.76  ...    0.000000     0.000000         NaN\n",
            "2017-06-09  11.76  11.76  11.76  ...    0.000000     0.000000         NaN\n",
            "2017-06-12  11.76  11.76  11.76  ...    0.000000     0.000000         NaN\n",
            "2017-06-13  11.76  11.76  11.76  ...    0.000000     0.000000         NaN\n",
            "2017-06-14  11.76  11.76  11.76  ...    0.000000     0.000000         NaN\n",
            "2017-06-15  12.47  12.02  12.08  ...    0.026360     0.026360    0.260000\n",
            "\n",
            "[34 rows x 10 columns]\n"
          ],
          "name": "stdout"
        }
      ]
    },
    {
      "cell_type": "markdown",
      "metadata": {
        "id": "n83HjCihZLhh"
      },
      "source": [
        "8、DataFrame数据保留两位小数显示"
      ]
    },
    {
      "cell_type": "code",
      "metadata": {
        "colab": {
          "base_uri": "https://localhost:8080/"
        },
        "id": "xYtmXNHrXkai",
        "outputId": "184ee7c5-9bd5-411d-d928-c391d8a43107"
      },
      "source": [
        "format = lambda x: '%.2f' % x\n",
        "stock = stock.applymap(format)\n",
        "print (stock.loc[\"2017-04-26\":\"2017-06-15\"])#默认打印全部列 loc为index名或colunm定位"
      ],
      "execution_count": 33,
      "outputs": [
        {
          "output_type": "stream",
          "text": [
            "             High    Low   Open  Close  ... Change pct_change pct_change1 jump_power\n",
            "Date                                    ...                                         \n",
            "2017-04-26  12.35  12.09  12.16  12.24  ...   0.02       0.00        0.00        nan\n",
            "2017-04-27  12.18  11.29  12.18  12.00  ...  -0.24      -0.02       -0.02      -0.06\n",
            "2017-04-28  12.09  11.83  11.97  12.01  ...   0.01       0.00        0.00        nan\n",
            "2017-05-02  12.68  12.22  12.30  12.46  ...   0.45       0.04        0.04       0.21\n",
            "2017-05-03  12.81  12.36  12.38  12.61  ...   0.15       0.01        0.01        nan\n",
            "2017-05-04  12.61  12.61  12.61  12.61  ...   0.00       0.00        0.00        nan\n",
            "2017-05-05  12.61  12.61  12.61  12.61  ...   0.00       0.00        0.00        nan\n",
            "2017-05-08  12.61  12.61  12.61  12.61  ...   0.00       0.00        0.00        nan\n",
            "2017-05-09  12.61  12.61  12.61  12.61  ...   0.00       0.00        0.00        nan\n",
            "2017-05-10  13.87  13.45  13.78  13.87  ...   1.26       0.10        0.10       0.84\n",
            "2017-05-11  14.50  12.91  14.50  13.68  ...  -0.19      -0.01       -0.01        nan\n",
            "2017-05-12  13.41  12.87  13.03  13.17  ...  -0.51      -0.04       -0.04      -0.27\n",
            "2017-05-15  13.68  13.06  13.38  13.22  ...   0.05       0.00        0.00        nan\n",
            "2017-05-16  13.28  12.40  12.87  13.21  ...  -0.01      -0.00       -0.00        nan\n",
            "2017-05-17  13.39  12.94  13.11  12.96  ...  -0.25      -0.02       -0.02        nan\n",
            "2017-05-18  12.82  12.46  12.70  12.48  ...  -0.48      -0.04       -0.04      -0.14\n",
            "2017-05-19  12.93  12.43  12.48  12.71  ...   0.23       0.02        0.02        nan\n",
            "2017-05-22  12.70  12.11  12.62  12.16  ...  -0.55      -0.04       -0.04      -0.01\n",
            "2017-05-23  12.44  11.46  12.27  11.53  ...  -0.63      -0.05       -0.05        nan\n",
            "2017-05-24  11.49  11.01  11.49  11.35  ...  -0.18      -0.02       -0.02      -0.04\n",
            "2017-05-25  11.77  11.17  11.40  11.72  ...   0.37       0.03        0.03        nan\n",
            "2017-05-26  11.86  11.61  11.66  11.81  ...   0.09       0.01        0.01        nan\n",
            "2017-05-31  12.09  11.64  12.09  11.71  ...  -0.10      -0.01       -0.01        nan\n",
            "2017-06-01  11.65  11.00  11.59  11.01  ...  -0.70      -0.06       -0.06      -0.06\n",
            "2017-06-02  11.38  10.89  11.10  11.35  ...   0.34       0.03        0.03        nan\n",
            "2017-06-05  11.45  11.21  11.29  11.38  ...   0.03       0.00        0.00        nan\n",
            "2017-06-06  11.62  11.29  11.36  11.60  ...   0.22       0.02        0.02        nan\n",
            "2017-06-07  11.87  11.53  11.59  11.76  ...   0.16       0.01        0.01        nan\n",
            "2017-06-08  11.76  11.76  11.76  11.76  ...   0.00       0.00        0.00        nan\n",
            "2017-06-09  11.76  11.76  11.76  11.76  ...   0.00       0.00        0.00        nan\n",
            "2017-06-12  11.76  11.76  11.76  11.76  ...   0.00       0.00        0.00        nan\n",
            "2017-06-13  11.76  11.76  11.76  11.76  ...   0.00       0.00        0.00        nan\n",
            "2017-06-14  11.76  11.76  11.76  11.76  ...   0.00       0.00        0.00        nan\n",
            "2017-06-15  12.47  12.02  12.08  12.07  ...   0.31       0.03        0.03       0.26\n",
            "\n",
            "[34 rows x 10 columns]\n"
          ],
          "name": "stdout"
        }
      ]
    },
    {
      "cell_type": "markdown",
      "metadata": {
        "id": "BFIwhuixhT7d"
      },
      "source": [
        "# 股价信息的可视化"
      ]
    },
    {
      "cell_type": "markdown",
      "metadata": {
        "id": "xI-idsethaNc"
      },
      "source": [
        "Matplotlib是使用Python进行绘图里非常方便的库。这次 plot使用的数据是 Adj Close栏的数据。这是所说的已调整收盘价。\n",
        "\n",
        "如下仅仅需要两行写就可以简单的将股价作为时间序列数据画出来。\n",
        "\n",
        "完整实例如下。"
      ]
    },
    {
      "cell_type": "code",
      "metadata": {
        "colab": {
          "base_uri": "https://localhost:8080/",
          "height": 277
        },
        "id": "5C5HY322hepB",
        "outputId": "a59e60e6-b565-4a3e-8816-e6caf90a1535"
      },
      "source": [
        "import pandas as pd\n",
        "from pandas import Series, DataFrame\n",
        "import numpy as np\n",
        " \n",
        "import matplotlib.pyplot as plt\n",
        "import pandas_datareader.data as wb\n",
        "import datetime\n",
        " \n",
        "end = datetime.date.today()\n",
        "start = datetime.datetime(end.year - 1, end.month, end.day)\n",
        "alibaba = web.DataReader('BABA', 'yahoo', start, end)\n",
        "\n",
        "alibaba['Adj Close'].plot(legend=True, figsize=(10,4))\n",
        "plt.show()\n",
        "\n"
      ],
      "execution_count": 39,
      "outputs": [
        {
          "output_type": "display_data",
          "data": {
            "image/png": "[encoded data removed]",
            "text/plain": [
              "<Figure size 720x288 with 1 Axes>"
            ]
          },
          "metadata": {
            "tags": [],
            "needs_background": "light"
          }
        }
      ]
    }
  ]
}
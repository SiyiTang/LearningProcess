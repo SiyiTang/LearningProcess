{
  "nbformat": 4,
  "nbformat_minor": 0,
  "metadata": {
    "colab": {
      "name": "MyPortfolio.ipynb",
      "provenance": [],
      "collapsed_sections": [],
      "authorship_tag": "ABX9TyMq7A9c68HCXbQJyND1i3cI",
      "include_colab_link": true
    },
    "kernelspec": {
      "name": "python3",
      "display_name": "Python 3"
    },
    "language_info": {
      "name": "python"
    },
    "accelerator": "GPU"
  },
  "cells": [
    {
      "cell_type": "markdown",
      "metadata": {
        "id": "view-in-github",
        "colab_type": "text"
      },
      "source": [
        "<a href=\"https://colab.research.google.com/github/SiyiTang/LearningProcess/blob/main/MyPortfolio%5B2%5D.ipynb\" target=\"_parent\"><img src=\"https://colab.research.google.com/assets/colab-badge.svg\" alt=\"Open In Colab\"/></a>"
      ]
    },
    {
      "cell_type": "code",
      "metadata": {
        "colab": {
          "base_uri": "https://localhost:8080/"
        },
        "id": "vEBBipetNCka",
        "outputId": "819c8949-f303-489b-c376-ca04607b8fed"
      },
      "source": [
        "! /opt/bin/nvidia-smi"
      ],
      "execution_count": 1,
      "outputs": [
        {
          "output_type": "stream",
          "text": [
            "Fri Apr 23 14:48:35 2021       \n",
            "+-----------------------------------------------------------------------------+\n",
            "| NVIDIA-SMI 460.32.03    Driver Version: 460.32.03    CUDA Version: 11.2     |\n",
            "|-------------------------------+----------------------+----------------------+\n",
            "| GPU  Name        Persistence-M| Bus-Id        Disp.A | Volatile Uncorr. ECC |\n",
            "| Fan  Temp  Perf  Pwr:Usage/Cap|         Memory-Usage | GPU-Util  Compute M. |\n",
            "|                               |                      |               MIG M. |\n",
            "|===============================+======================+======================|\n",
            "|   0  Tesla T4            Off  | 00000000:00:04.0 Off |                    0 |\n",
            "| N/A   43C    P8    10W /  70W |      0MiB / 15109MiB |      0%      Default |\n",
            "|                               |                      |                  N/A |\n",
            "+-------------------------------+----------------------+----------------------+\n",
            "                                                                               \n",
            "+-----------------------------------------------------------------------------+\n",
            "| Processes:                                                                  |\n",
            "|  GPU   GI   CI        PID   Type   Process name                  GPU Memory |\n",
            "|        ID   ID                                                   Usage      |\n",
            "|=============================================================================|\n",
            "|  No running processes found                                                 |\n",
            "+-----------------------------------------------------------------------------+\n"
          ],
          "name": "stdout"
        }
      ]
    },
    {
      "cell_type": "code",
      "metadata": {
        "colab": {
          "base_uri": "https://localhost:8080/"
        },
        "id": "FO0Uf_tliQG8",
        "outputId": "a0916ba2-45ea-4ad2-ffe8-1d1fc8a6b08a"
      },
      "source": [
        "pip install deepdow"
      ],
      "execution_count": 2,
      "outputs": [
        {
          "output_type": "stream",
          "text": [
            "Collecting deepdow\n",
            "\u001b[?25l  Downloading https://files.pythonhosted.org/packages/d9/6e/b738c2a5969dbcac4238e6ebd849e92d35a8ef7c65f6b93848f9b305bb6b/deepdow-0.2.2-py3-none-any.whl (52kB)\n",
            "\r\u001b[K     |██████▏                         | 10kB 20.5MB/s eta 0:00:01\r\u001b[K     |████████████▍                   | 20kB 27.4MB/s eta 0:00:01\r\u001b[K     |██████████████████▋             | 30kB 22.2MB/s eta 0:00:01\r\u001b[K     |████████████████████████▉       | 40kB 25.6MB/s eta 0:00:01\r\u001b[K     |███████████████████████████████ | 51kB 25.4MB/s eta 0:00:01\r\u001b[K     |████████████████████████████████| 61kB 6.0MB/s \n",
            "\u001b[?25hRequirement already satisfied: tqdm in /usr/local/lib/python3.7/dist-packages (from deepdow) (4.41.1)\n",
            "Requirement already satisfied: matplotlib in /usr/local/lib/python3.7/dist-packages (from deepdow) (3.2.2)\n",
            "Requirement already satisfied: tensorboard in /usr/local/lib/python3.7/dist-packages (from deepdow) (2.4.1)\n",
            "Requirement already satisfied: pillow in /usr/local/lib/python3.7/dist-packages (from deepdow) (7.1.2)\n",
            "Requirement already satisfied: pandas in /usr/local/lib/python3.7/dist-packages (from deepdow) (1.1.5)\n",
            "Requirement already satisfied: seaborn in /usr/local/lib/python3.7/dist-packages (from deepdow) (0.11.1)\n",
            "Collecting cvxpylayers\n",
            "  Downloading https://files.pythonhosted.org/packages/13/4f/e58e410cadceca32d57215b87460f1a337c7d82fd4c1f1e670c59da7b7fe/cvxpylayers-0.1.5.tar.gz\n",
            "Collecting mlflow\n",
            "\u001b[?25l  Downloading https://files.pythonhosted.org/packages/44/03/27a5457d0dfd7cd05016e54c0c00b33e99b968d3cc49e4b87824307f1560/mlflow-1.15.0-py3-none-any.whl (14.2MB)\n",
            "\u001b[K     |████████████████████████████████| 14.2MB 224kB/s \n",
            "\u001b[?25hRequirement already satisfied: numpy>=1.16.5 in /usr/local/lib/python3.7/dist-packages (from deepdow) (1.19.5)\n",
            "Requirement already satisfied: torch>=1.5 in /usr/local/lib/python3.7/dist-packages (from deepdow) (1.8.1+cu101)\n",
            "Requirement already satisfied: pyparsing!=2.0.4,!=2.1.2,!=2.1.6,>=2.0.1 in /usr/local/lib/python3.7/dist-packages (from matplotlib->deepdow) (2.4.7)\n",
            "Requirement already satisfied: cycler>=0.10 in /usr/local/lib/python3.7/dist-packages (from matplotlib->deepdow) (0.10.0)\n",
            "Requirement already satisfied: kiwisolver>=1.0.1 in /usr/local/lib/python3.7/dist-packages (from matplotlib->deepdow) (1.3.1)\n",
            "Requirement already satisfied: python-dateutil>=2.1 in /usr/local/lib/python3.7/dist-packages (from matplotlib->deepdow) (2.8.1)\n",
            "Requirement already satisfied: six>=1.10.0 in /usr/local/lib/python3.7/dist-packages (from tensorboard->deepdow) (1.15.0)\n",
            "Requirement already satisfied: setuptools>=41.0.0 in /usr/local/lib/python3.7/dist-packages (from tensorboard->deepdow) (56.0.0)\n",
            "Requirement already satisfied: google-auth<2,>=1.6.3 in /usr/local/lib/python3.7/dist-packages (from tensorboard->deepdow) (1.28.1)\n",
            "Requirement already satisfied: absl-py>=0.4 in /usr/local/lib/python3.7/dist-packages (from tensorboard->deepdow) (0.12.0)\n",
            "Requirement already satisfied: werkzeug>=0.11.15 in /usr/local/lib/python3.7/dist-packages (from tensorboard->deepdow) (1.0.1)\n",
            "Requirement already satisfied: protobuf>=3.6.0 in /usr/local/lib/python3.7/dist-packages (from tensorboard->deepdow) (3.12.4)\n",
            "Requirement already satisfied: markdown>=2.6.8 in /usr/local/lib/python3.7/dist-packages (from tensorboard->deepdow) (3.3.4)\n",
            "Requirement already satisfied: requests<3,>=2.21.0 in /usr/local/lib/python3.7/dist-packages (from tensorboard->deepdow) (2.23.0)\n",
            "Requirement already satisfied: google-auth-oauthlib<0.5,>=0.4.1 in /usr/local/lib/python3.7/dist-packages (from tensorboard->deepdow) (0.4.4)\n",
            "Requirement already satisfied: grpcio>=1.24.3 in /usr/local/lib/python3.7/dist-packages (from tensorboard->deepdow) (1.32.0)\n",
            "Requirement already satisfied: tensorboard-plugin-wit>=1.6.0 in /usr/local/lib/python3.7/dist-packages (from tensorboard->deepdow) (1.8.0)\n",
            "Requirement already satisfied: wheel>=0.26; python_version >= \"3\" in /usr/local/lib/python3.7/dist-packages (from tensorboard->deepdow) (0.36.2)\n",
            "Requirement already satisfied: pytz>=2017.2 in /usr/local/lib/python3.7/dist-packages (from pandas->deepdow) (2018.9)\n",
            "Requirement already satisfied: scipy>=1.0 in /usr/local/lib/python3.7/dist-packages (from seaborn->deepdow) (1.4.1)\n",
            "Collecting diffcp>=1.0.13\n",
            "\u001b[?25l  Downloading https://files.pythonhosted.org/packages/39/9f/de0ef10cd336b7f359f866df425d089f8c671e6c764fefcedb749db954cf/diffcp-1.0.16.tar.gz (2.2MB)\n",
            "\u001b[K     |████████████████████████████████| 2.2MB 35.0MB/s \n",
            "\u001b[?25hCollecting cvxpy>=1.1.0a4\n",
            "\u001b[?25l  Downloading https://files.pythonhosted.org/packages/83/47/fd1e818b8da30ef18695a0fbf9b66611ab18506f0a44fc69480a75f4db1b/cvxpy-1.1.12.tar.gz (1.3MB)\n",
            "\u001b[K     |████████████████████████████████| 1.3MB 44.8MB/s \n",
            "\u001b[?25h  Installing build dependencies ... \u001b[?25l\u001b[?25hdone\n",
            "  Getting requirements to build wheel ... \u001b[?25l\u001b[?25hdone\n",
            "    Preparing wheel metadata ... \u001b[?25l\u001b[?25hdone\n",
            "Collecting gunicorn; platform_system != \"Windows\"\n",
            "\u001b[?25l  Downloading https://files.pythonhosted.org/packages/28/5b/0d1f0296485a6af03366604142ea8f19f0833894db3512a40ed07b2a56dd/gunicorn-20.1.0.tar.gz (370kB)\n",
            "\u001b[K     |████████████████████████████████| 378kB 55.2MB/s \n",
            "\u001b[?25hRequirement already satisfied: Flask in /usr/local/lib/python3.7/dist-packages (from mlflow->deepdow) (1.1.2)\n",
            "Collecting querystring-parser\n",
            "  Downloading https://files.pythonhosted.org/packages/88/6b/572b2590fd55114118bf08bde63c0a421dcc82d593700f3e2ad89908a8a9/querystring_parser-1.2.4-py2.py3-none-any.whl\n",
            "Collecting docker>=4.0.0\n",
            "\u001b[?25l  Downloading https://files.pythonhosted.org/packages/b2/5a/f988909dfed18c1ac42ad8d9e611e6c5657e270aa6eb68559985dbb69c13/docker-5.0.0-py2.py3-none-any.whl (146kB)\n",
            "\u001b[K     |████████████████████████████████| 153kB 56.4MB/s \n",
            "\u001b[?25hRequirement already satisfied: sqlparse>=0.3.1 in /usr/local/lib/python3.7/dist-packages (from mlflow->deepdow) (0.4.1)\n",
            "Collecting alembic<=1.4.1\n",
            "\u001b[?25l  Downloading https://files.pythonhosted.org/packages/e0/e9/359dbb77c35c419df0aedeb1d53e71e7e3f438ff64a8fdb048c907404de3/alembic-1.4.1.tar.gz (1.1MB)\n",
            "\u001b[K     |████████████████████████████████| 1.1MB 42.2MB/s \n",
            "\u001b[?25hRequirement already satisfied: click>=7.0 in /usr/local/lib/python3.7/dist-packages (from mlflow->deepdow) (7.1.2)\n",
            "Collecting prometheus-flask-exporter\n",
            "  Downloading https://files.pythonhosted.org/packages/4c/d5/8a046d683c2cc084b6a502812827ede69b1064f95d93f94b83f809b21723/prometheus_flask_exporter-0.18.1.tar.gz\n",
            "Requirement already satisfied: entrypoints in /usr/local/lib/python3.7/dist-packages (from mlflow->deepdow) (0.3)\n",
            "Requirement already satisfied: cloudpickle in /usr/local/lib/python3.7/dist-packages (from mlflow->deepdow) (1.3.0)\n",
            "Collecting gitpython>=2.1.0\n",
            "\u001b[?25l  Downloading https://files.pythonhosted.org/packages/a6/99/98019716955ba243657daedd1de8f3a88ca1f5b75057c38e959db22fb87b/GitPython-3.1.14-py3-none-any.whl (159kB)\n",
            "\u001b[K     |████████████████████████████████| 163kB 57.1MB/s \n",
            "\u001b[?25hCollecting databricks-cli>=0.8.7\n",
            "\u001b[?25l  Downloading https://files.pythonhosted.org/packages/bc/af/631375abc29e59cedfa4467a5f7755503ba19898890751e1f2636ef02f92/databricks-cli-0.14.3.tar.gz (54kB)\n",
            "\u001b[K     |████████████████████████████████| 61kB 9.7MB/s \n",
            "\u001b[?25hRequirement already satisfied: sqlalchemy in /usr/local/lib/python3.7/dist-packages (from mlflow->deepdow) (1.4.7)\n",
            "Requirement already satisfied: pyyaml in /usr/local/lib/python3.7/dist-packages (from mlflow->deepdow) (3.13)\n",
            "Requirement already satisfied: typing-extensions in /usr/local/lib/python3.7/dist-packages (from torch>=1.5->deepdow) (3.7.4.3)\n",
            "Requirement already satisfied: cachetools<5.0,>=2.0.0 in /usr/local/lib/python3.7/dist-packages (from google-auth<2,>=1.6.3->tensorboard->deepdow) (4.2.1)\n",
            "Requirement already satisfied: rsa<5,>=3.1.4; python_version >= \"3.6\" in /usr/local/lib/python3.7/dist-packages (from google-auth<2,>=1.6.3->tensorboard->deepdow) (4.7.2)\n",
            "Requirement already satisfied: pyasn1-modules>=0.2.1 in /usr/local/lib/python3.7/dist-packages (from google-auth<2,>=1.6.3->tensorboard->deepdow) (0.2.8)\n",
            "Requirement already satisfied: importlib-metadata; python_version < \"3.8\" in /usr/local/lib/python3.7/dist-packages (from markdown>=2.6.8->tensorboard->deepdow) (3.10.1)\n",
            "Requirement already satisfied: urllib3!=1.25.0,!=1.25.1,<1.26,>=1.21.1 in /usr/local/lib/python3.7/dist-packages (from requests<3,>=2.21.0->tensorboard->deepdow) (1.24.3)\n",
            "Requirement already satisfied: idna<3,>=2.5 in /usr/local/lib/python3.7/dist-packages (from requests<3,>=2.21.0->tensorboard->deepdow) (2.10)\n",
            "Requirement already satisfied: chardet<4,>=3.0.2 in /usr/local/lib/python3.7/dist-packages (from requests<3,>=2.21.0->tensorboard->deepdow) (3.0.4)\n",
            "Requirement already satisfied: certifi>=2017.4.17 in /usr/local/lib/python3.7/dist-packages (from requests<3,>=2.21.0->tensorboard->deepdow) (2020.12.5)\n",
            "Requirement already satisfied: requests-oauthlib>=0.7.0 in /usr/local/lib/python3.7/dist-packages (from google-auth-oauthlib<0.5,>=0.4.1->tensorboard->deepdow) (1.3.0)\n",
            "Requirement already satisfied: scs>=2.0.2 in /usr/local/lib/python3.7/dist-packages (from diffcp>=1.0.13->cvxpylayers->deepdow) (2.1.3)\n",
            "Requirement already satisfied: pybind11>=2.4 in /usr/local/lib/python3.7/dist-packages (from diffcp>=1.0.13->cvxpylayers->deepdow) (2.6.2)\n",
            "Collecting threadpoolctl>=1.1\n",
            "  Downloading https://files.pythonhosted.org/packages/f7/12/ec3f2e203afa394a149911729357aa48affc59c20e2c1c8297a60f33f133/threadpoolctl-2.1.0-py3-none-any.whl\n",
            "Requirement already satisfied: ecos in /usr/local/lib/python3.7/dist-packages (from diffcp>=1.0.13->cvxpylayers->deepdow) (2.0.7.post1)\n",
            "Requirement already satisfied: osqp>=0.4.1 in /usr/local/lib/python3.7/dist-packages (from cvxpy>=1.1.0a4->cvxpylayers->deepdow) (0.6.2.post0)\n",
            "Requirement already satisfied: Jinja2>=2.10.1 in /usr/local/lib/python3.7/dist-packages (from Flask->mlflow->deepdow) (2.11.3)\n",
            "Requirement already satisfied: itsdangerous>=0.24 in /usr/local/lib/python3.7/dist-packages (from Flask->mlflow->deepdow) (1.1.0)\n",
            "Collecting websocket-client>=0.32.0\n",
            "\u001b[?25l  Downloading https://files.pythonhosted.org/packages/08/33/80e0d4f60e84a1ddd9a03f340be1065a2a363c47ce65c4bd3bae65ce9631/websocket_client-0.58.0-py2.py3-none-any.whl (61kB)\n",
            "\u001b[K     |████████████████████████████████| 61kB 9.0MB/s \n",
            "\u001b[?25hCollecting Mako\n",
            "\u001b[?25l  Downloading https://files.pythonhosted.org/packages/f3/54/dbc07fbb20865d3b78fdb7cf7fa713e2cba4f87f71100074ef2dc9f9d1f7/Mako-1.1.4-py2.py3-none-any.whl (75kB)\n",
            "\u001b[K     |████████████████████████████████| 81kB 11.9MB/s \n",
            "\u001b[?25hCollecting python-editor>=0.3\n",
            "  Downloading https://files.pythonhosted.org/packages/c6/d3/201fc3abe391bbae6606e6f1d598c15d367033332bd54352b12f35513717/python_editor-1.0.4-py3-none-any.whl\n",
            "Requirement already satisfied: prometheus_client in /usr/local/lib/python3.7/dist-packages (from prometheus-flask-exporter->mlflow->deepdow) (0.10.1)\n",
            "Collecting gitdb<5,>=4.0.1\n",
            "\u001b[?25l  Downloading https://files.pythonhosted.org/packages/ea/e8/f414d1a4f0bbc668ed441f74f44c116d9816833a48bf81d22b697090dba8/gitdb-4.0.7-py3-none-any.whl (63kB)\n",
            "\u001b[K     |████████████████████████████████| 71kB 9.8MB/s \n",
            "\u001b[?25hRequirement already satisfied: tabulate>=0.7.7 in /usr/local/lib/python3.7/dist-packages (from databricks-cli>=0.8.7->mlflow->deepdow) (0.8.9)\n",
            "Requirement already satisfied: greenlet!=0.4.17; python_version >= \"3\" in /usr/local/lib/python3.7/dist-packages (from sqlalchemy->mlflow->deepdow) (1.0.0)\n",
            "Requirement already satisfied: pyasn1>=0.1.3 in /usr/local/lib/python3.7/dist-packages (from rsa<5,>=3.1.4; python_version >= \"3.6\"->google-auth<2,>=1.6.3->tensorboard->deepdow) (0.4.8)\n",
            "Requirement already satisfied: zipp>=0.5 in /usr/local/lib/python3.7/dist-packages (from importlib-metadata; python_version < \"3.8\"->markdown>=2.6.8->tensorboard->deepdow) (3.4.1)\n",
            "Requirement already satisfied: oauthlib>=3.0.0 in /usr/local/lib/python3.7/dist-packages (from requests-oauthlib>=0.7.0->google-auth-oauthlib<0.5,>=0.4.1->tensorboard->deepdow) (3.1.0)\n",
            "Requirement already satisfied: qdldl in /usr/local/lib/python3.7/dist-packages (from osqp>=0.4.1->cvxpy>=1.1.0a4->cvxpylayers->deepdow) (0.1.5.post0)\n",
            "Requirement already satisfied: MarkupSafe>=0.23 in /usr/local/lib/python3.7/dist-packages (from Jinja2>=2.10.1->Flask->mlflow->deepdow) (1.1.1)\n",
            "Collecting smmap<5,>=3.0.1\n",
            "  Downloading https://files.pythonhosted.org/packages/68/ee/d540eb5e5996eb81c26ceffac6ee49041d473bc5125f2aa995cf51ec1cf1/smmap-4.0.0-py2.py3-none-any.whl\n",
            "Building wheels for collected packages: cvxpy\n",
            "  Building wheel for cvxpy (PEP 517) ... \u001b[?25l\u001b[?25hdone\n",
            "  Created wheel for cvxpy: filename=cvxpy-1.1.12-cp37-cp37m-linux_x86_64.whl size=2731700 sha256=2fa82b0abbc053c973cbb91e38e8e34edc9968b83bdac64ac2958cf6e7a17f5b\n",
            "  Stored in directory: /root/.cache/pip/wheels/9b/62/55/1da181c05c710c5d99bd560edebec3bd6a61cb69acef9dc00e\n",
            "Successfully built cvxpy\n",
            "Building wheels for collected packages: cvxpylayers, diffcp, gunicorn, alembic, prometheus-flask-exporter, databricks-cli\n",
            "  Building wheel for cvxpylayers (setup.py) ... \u001b[?25l\u001b[?25hdone\n",
            "  Created wheel for cvxpylayers: filename=cvxpylayers-0.1.5-cp37-none-any.whl size=26081 sha256=dcc6f89c0f141192c737220a770d4b26bf2c350a9ed507877931e9f15dee164b\n",
            "  Stored in directory: /root/.cache/pip/wheels/ec/4f/87/a2942ca6c24e9f2cfe165084302a7f0124849cb61fbdbc2576\n",
            "  Building wheel for diffcp (setup.py) ... \u001b[?25l\u001b[?25hdone\n",
            "  Created wheel for diffcp: filename=diffcp-1.0.16-cp37-cp37m-linux_x86_64.whl size=4006669 sha256=1b1b367c40b0731f9facc24de7bfa92d5a0fd08f723a44674973d7968c8983d6\n",
            "  Stored in directory: /root/.cache/pip/wheels/5f/30/f6/52fb68dc73616d60ae3cff0836dfbc8526d60fbf69294fc518\n",
            "  Building wheel for gunicorn (setup.py) ... \u001b[?25l\u001b[?25hdone\n",
            "  Created wheel for gunicorn: filename=gunicorn-20.1.0-cp37-none-any.whl size=78918 sha256=7987559f9792c14b3cbcbf1a3d11ba2bfa4f409ae03163e3f66f74038be0baa3\n",
            "  Stored in directory: /root/.cache/pip/wheels/4c/ea/e2/698dde91d46e32a449e60f785a91954f67f72fea8890bb1072\n",
            "  Building wheel for alembic (setup.py) ... \u001b[?25l\u001b[?25hdone\n",
            "  Created wheel for alembic: filename=alembic-1.4.1-py2.py3-none-any.whl size=158155 sha256=20691c5146db102e1583ec1a8efe5b5e864b8627a5fbd82bc6b9904d7f836f2b\n",
            "  Stored in directory: /root/.cache/pip/wheels/84/07/f7/12f7370ca47a66030c2edeedcc23dec26ea0ac22dcb4c4a0f3\n",
            "  Building wheel for prometheus-flask-exporter (setup.py) ... \u001b[?25l\u001b[?25hdone\n",
            "  Created wheel for prometheus-flask-exporter: filename=prometheus_flask_exporter-0.18.1-cp37-none-any.whl size=17159 sha256=bfcfda60a2d14ca4721051e9600bac66509bfa7cf6fb29cde0c719d3777843b0\n",
            "  Stored in directory: /root/.cache/pip/wheels/b4/1f/b8/66bd9bc3a9d6c6987ff6c4dfeb6f1fe97b5a0e5ed5849c0437\n",
            "  Building wheel for databricks-cli (setup.py) ... \u001b[?25l\u001b[?25hdone\n",
            "  Created wheel for databricks-cli: filename=databricks_cli-0.14.3-cp37-none-any.whl size=100557 sha256=df4c5e438e2476fe983f4e92fc552896c1df915aa2fc8e610529f14c078ed831\n",
            "  Stored in directory: /root/.cache/pip/wheels/5b/24/f3/34d8e3964dac4ba849d844273c49a679111b00d5799ebb934a\n",
            "Successfully built cvxpylayers diffcp gunicorn alembic prometheus-flask-exporter databricks-cli\n",
            "Installing collected packages: threadpoolctl, diffcp, cvxpy, cvxpylayers, gunicorn, querystring-parser, websocket-client, docker, Mako, python-editor, alembic, prometheus-flask-exporter, smmap, gitdb, gitpython, databricks-cli, mlflow, deepdow\n",
            "  Found existing installation: cvxpy 1.0.31\n",
            "    Uninstalling cvxpy-1.0.31:\n",
            "      Successfully uninstalled cvxpy-1.0.31\n",
            "Successfully installed Mako-1.1.4 alembic-1.4.1 cvxpy-1.1.12 cvxpylayers-0.1.5 databricks-cli-0.14.3 deepdow-0.2.2 diffcp-1.0.16 docker-5.0.0 gitdb-4.0.7 gitpython-3.1.14 gunicorn-20.1.0 mlflow-1.15.0 prometheus-flask-exporter-0.18.1 python-editor-1.0.4 querystring-parser-1.2.4 smmap-4.0.0 threadpoolctl-2.1.0 websocket-client-0.58.0\n"
          ],
          "name": "stdout"
        }
      ]
    },
    {
      "cell_type": "markdown",
      "metadata": {
        "id": "QVMIwuZyj0nC"
      },
      "source": [
        "# Imports and Configuration"
      ]
    },
    {
      "cell_type": "code",
      "metadata": {
        "id": "NmvDGKdFixyT"
      },
      "source": [
        "%matplotlib inline\n",
        "from deepdow.benchmarks import Benchmark, OneOverN, Random, Singleton\n",
        "from deepdow.callbacks import EarlyStoppingCallback, TensorBoardCallback\n",
        "from deepdow.data import InRAMDataset, RigidDataLoader, prepare_standard_scaler, Scale\n",
        "from deepdow.experiments import Run\n",
        "from deepdow.nn import KeynesNet\n",
        "from deepdow.losses import MeanReturns, SharpeRatio, MaximumDrawdown\n",
        "from deepdow.visualize import generate_metrics_table, generate_weights_table, plot_metrics, plot_weight_heatmap\n",
        "from deepdow.utils import raw_to_Xy\n",
        "import matplotlib.pyplot as plt\n",
        "import numpy as np\n",
        "import torch\n",
        "import datetime\n",
        "import pandas as pd\n",
        "import pandas_datareader.data as web"
      ],
      "execution_count": 3,
      "outputs": []
    },
    {
      "cell_type": "markdown",
      "metadata": {
        "id": "VP45XtrlkxbD"
      },
      "source": [
        "# Initialize"
      ]
    },
    {
      "cell_type": "code",
      "metadata": {
        "id": "tribal-turkey"
      },
      "source": [
        "# 获取默认图形尺寸\n",
        "default_figsize = plt.rcParams[\"figure.figsize\"]"
      ],
      "execution_count": 4,
      "outputs": []
    },
    {
      "cell_type": "code",
      "metadata": {
        "id": "duplicate-cosmetic"
      },
      "source": [
        "# set random seed for repeatility\n",
        "torch.manual_seed(4)\n",
        "np.random.seed(5)"
      ],
      "execution_count": 5,
      "outputs": []
    },
    {
      "cell_type": "markdown",
      "metadata": {
        "id": "GuXeEygOkddD"
      },
      "source": [
        "# Data Preprocess"
      ]
    },
    {
      "cell_type": "code",
      "metadata": {
        "id": "4zyVJjnvklcN"
      },
      "source": [
        "# set start and end time\n",
        "start = datetime.datetime(2010, 1, 1) \n",
        "end = datetime.datetime(2020, 12, 31)\n",
        "\n",
        "# Which stocks to use: 京东方、格力电器、平安银行、长江电力\n",
        "# tickers = ['000725.SZ', '000651.SZ', '000001.SZ','600900.SS']\n",
        "tickers = ['AAPL','NFLX','AMZN','KO']\n",
        "# fetch close price\n",
        "raw_df = web.DataReader(tickers, 'yahoo', start=start, end=end)[['Close']]"
      ],
      "execution_count": 6,
      "outputs": []
    },
    {
      "cell_type": "code",
      "metadata": {
        "colab": {
          "base_uri": "https://localhost:8080/",
          "height": 263
        },
        "id": "3nC569c0v1kh",
        "outputId": "df4c8b7f-9396-4ad2-e972-610e60133f4a"
      },
      "source": [
        "# Re-structure the columns\n",
        "raw_df.columns = pd.MultiIndex.from_product([tickers, [\"Close\"]], names=[\"Ticker\", \"Attribute\"]\n",
        ")\n",
        "assert isinstance(raw_df, pd.DataFrame)\n",
        "assert isinstance(raw_df.index, pd.DatetimeIndex)\n",
        "assert isinstance(raw_df.columns, pd.MultiIndex)\n",
        "raw_df.head()"
      ],
      "execution_count": 7,
      "outputs": [
        {
          "output_type": "execute_result",
          "data": {
            "text/html": [
              "<div>\n",
              "<style scoped>\n",
              "    .dataframe tbody tr th:only-of-type {\n",
              "        vertical-align: middle;\n",
              "    }\n",
              "\n",
              "    .dataframe tbody tr th {\n",
              "        vertical-align: top;\n",
              "    }\n",
              "\n",
              "    .dataframe thead tr th {\n",
              "        text-align: left;\n",
              "    }\n",
              "\n",
              "    .dataframe thead tr:last-of-type th {\n",
              "        text-align: right;\n",
              "    }\n",
              "</style>\n",
              "<table border=\"1\" class=\"dataframe\">\n",
              "  <thead>\n",
              "    <tr>\n",
              "      <th>Ticker</th>\n",
              "      <th>AAPL</th>\n",
              "      <th>NFLX</th>\n",
              "      <th>AMZN</th>\n",
              "      <th>KO</th>\n",
              "    </tr>\n",
              "    <tr>\n",
              "      <th>Attribute</th>\n",
              "      <th>Close</th>\n",
              "      <th>Close</th>\n",
              "      <th>Close</th>\n",
              "      <th>Close</th>\n",
              "    </tr>\n",
              "    <tr>\n",
              "      <th>Date</th>\n",
              "      <th></th>\n",
              "      <th></th>\n",
              "      <th></th>\n",
              "      <th></th>\n",
              "    </tr>\n",
              "  </thead>\n",
              "  <tbody>\n",
              "    <tr>\n",
              "      <th>2010-01-04</th>\n",
              "      <td>7.643214</td>\n",
              "      <td>7.640000</td>\n",
              "      <td>133.899994</td>\n",
              "      <td>28.520000</td>\n",
              "    </tr>\n",
              "    <tr>\n",
              "      <th>2010-01-05</th>\n",
              "      <td>7.656429</td>\n",
              "      <td>7.358571</td>\n",
              "      <td>134.690002</td>\n",
              "      <td>28.174999</td>\n",
              "    </tr>\n",
              "    <tr>\n",
              "      <th>2010-01-06</th>\n",
              "      <td>7.534643</td>\n",
              "      <td>7.617143</td>\n",
              "      <td>132.250000</td>\n",
              "      <td>28.165001</td>\n",
              "    </tr>\n",
              "    <tr>\n",
              "      <th>2010-01-07</th>\n",
              "      <td>7.520714</td>\n",
              "      <td>7.485714</td>\n",
              "      <td>130.000000</td>\n",
              "      <td>28.094999</td>\n",
              "    </tr>\n",
              "    <tr>\n",
              "      <th>2010-01-08</th>\n",
              "      <td>7.570714</td>\n",
              "      <td>7.614286</td>\n",
              "      <td>133.520004</td>\n",
              "      <td>27.575001</td>\n",
              "    </tr>\n",
              "  </tbody>\n",
              "</table>\n",
              "</div>"
            ],
            "text/plain": [
              "Ticker          AAPL      NFLX        AMZN         KO\n",
              "Attribute      Close     Close       Close      Close\n",
              "Date                                                 \n",
              "2010-01-04  7.643214  7.640000  133.899994  28.520000\n",
              "2010-01-05  7.656429  7.358571  134.690002  28.174999\n",
              "2010-01-06  7.534643  7.617143  132.250000  28.165001\n",
              "2010-01-07  7.520714  7.485714  130.000000  28.094999\n",
              "2010-01-08  7.570714  7.614286  133.520004  27.575001"
            ]
          },
          "metadata": {
            "tags": []
          },
          "execution_count": 7
        }
      ]
    },
    {
      "cell_type": "markdown",
      "metadata": {
        "id": "tpKrLQVFxMhl"
      },
      "source": [
        "Fill in with pandas-defined business days since that's used in DeepDow. Use ffill and bfill to copy the previous/next day's closing price assuming no change on days not provided from source.\n",
        "\n",
        "Note: Chinese trading days are different than pandas business days"
      ]
    },
    {
      "cell_type": "code",
      "metadata": {
        "colab": {
          "base_uri": "https://localhost:8080/"
        },
        "id": "3ZC6vzcpwYNP",
        "outputId": "081c52b0-0df1-4607-e061-8931f10e2e4e"
      },
      "source": [
        "index = pd.date_range(start=raw_df.index[0], end=raw_df.index[-1], freq=\"B\")\n",
        "\n",
        "print(f\"Num records before fill: {len(raw_df)}\")\n",
        "raw_df = pd.DataFrame(raw_df, index=index).ffill().bfill()\n",
        "print(f\"Num records after fill: {len(raw_df)}\")"
      ],
      "execution_count": 8,
      "outputs": [
        {
          "output_type": "stream",
          "text": [
            "Num records before fill: 2769\n",
            "Num records after fill: 2869\n"
          ],
          "name": "stdout"
        }
      ]
    },
    {
      "cell_type": "markdown",
      "metadata": {
        "id": "CG4pHpDZztxG"
      },
      "source": [
        "# Creat Database"
      ]
    },
    {
      "cell_type": "markdown",
      "metadata": {
        "id": "zY2-q1Ryz5m2"
      },
      "source": [
        "Derive some parameters for use in creating datasets"
      ]
    },
    {
      "cell_type": "code",
      "metadata": {
        "id": "LiiFb6-Cz6uv"
      },
      "source": [
        "n_timesteps = len(raw_df)\n",
        "n_channels = len(raw_df.columns.levels[1])\n",
        "n_assets = len(raw_df.columns.levels[0])"
      ],
      "execution_count": 9,
      "outputs": []
    },
    {
      "cell_type": "code",
      "metadata": {
        "colab": {
          "base_uri": "https://localhost:8080/"
        },
        "id": "GnemiWCS0BSI",
        "outputId": "ed8b5a74-f378-4be8-83d4-e607b40f2a59"
      },
      "source": [
        "print('Timesteps = '+ str(n_timesteps))\n",
        "print('Channels = '+ str(n_channels))\n",
        "print('Assets = '+ str(n_assets))"
      ],
      "execution_count": 10,
      "outputs": [
        {
          "output_type": "stream",
          "text": [
            "Timesteps = 2869\n",
            "Channels = 1\n",
            "Assets = 4\n"
          ],
          "name": "stdout"
        }
      ]
    },
    {
      "cell_type": "code",
      "metadata": {
        "id": "vwASB1aL6g5C"
      },
      "source": [
        "lookback = 50  # Number of timesteps to look back, e.g. length of X in time\n",
        "gap = 1  # Gap between end of X and start of y for each data sample\n",
        "horizon = 5  # Number of timesteps to use for prediction"
      ],
      "execution_count": 11,
      "outputs": []
    },
    {
      "cell_type": "markdown",
      "metadata": {
        "id": "aggregate-introduction"
      },
      "source": [
        "Generate the splits for train and test"
      ]
    },
    {
      "cell_type": "code",
      "metadata": {
        "id": "south-dealing"
      },
      "source": [
        "X, timestamps, y, asset_names, indicators = raw_to_Xy(\n",
        "    raw_df, lookback=lookback, gap=gap, freq=\"B\", horizon=horizon\n",
        ")"
      ],
      "execution_count": 12,
      "outputs": []
    },
    {
      "cell_type": "code",
      "metadata": {
        "colab": {
          "base_uri": "https://localhost:8080/"
        },
        "id": "Ol3ixIUy7_Rn",
        "outputId": "4848ffea-ea3e-4997-9b1b-764f4220f6d1"
      },
      "source": [
        "n_samples = n_timesteps - lookback - horizon - gap \n",
        "n_samples"
      ],
      "execution_count": 13,
      "outputs": [
        {
          "output_type": "execute_result",
          "data": {
            "text/plain": [
              "2813"
            ]
          },
          "metadata": {
            "tags": []
          },
          "execution_count": 13
        }
      ]
    },
    {
      "cell_type": "code",
      "metadata": {
        "colab": {
          "base_uri": "https://localhost:8080/"
        },
        "id": "zXHJcmbH7TyT",
        "outputId": "743d7ca5-a2f1-4751-f1d3-5df2205ac331"
      },
      "source": [
        "split_ix = int(n_samples * 0.9)\n",
        "indices_train = list(range(split_ix))\n",
        "indices_test = list(range(split_ix + lookback + horizon, n_samples))\n",
        "\n",
        "print('Train range: {}:{}\\nTest range: {}:{}'.format(indices_train[0], indices_train[-1],\n",
        "                                                     indices_test[0], indices_test[-1]))"
      ],
      "execution_count": 14,
      "outputs": [
        {
          "output_type": "stream",
          "text": [
            "Train range: 0:2530\n",
            "Test range: 2586:2812\n"
          ],
          "name": "stdout"
        }
      ]
    },
    {
      "cell_type": "markdown",
      "metadata": {
        "id": "yNuk-1Pt9neG"
      },
      "source": [
        "Convert `Xy` format to `InRAMDDataset` for loadin during training."
      ]
    },
    {
      "cell_type": "code",
      "metadata": {
        "id": "Vh1sgRG79N6O"
      },
      "source": [
        "dataset = InRAMDataset(X, y, timestamps=timestamps, asset_names=asset_names)\n",
        "\n",
        "X_sample, y_sample, timestamp_sample, asset_names = dataset[0]"
      ],
      "execution_count": 15,
      "outputs": []
    },
    {
      "cell_type": "markdown",
      "metadata": {
        "id": "looking-click"
      },
      "source": [
        "Create a data loader for training from the dataset: \n",
        "* one for train\n",
        "* one for test"
      ]
    },
    {
      "cell_type": "code",
      "metadata": {
        "id": "K31L30Ow88lS"
      },
      "source": [
        "dataloader_train = RigidDataLoader(dataset, indices=indices_train, batch_size=64)\n",
        "\n",
        "dataloader_test = RigidDataLoader(dataset, indices=indices_test, batch_size=64)"
      ],
      "execution_count": 16,
      "outputs": []
    },
    {
      "cell_type": "markdown",
      "metadata": {
        "id": "0qMHExty97i9"
      },
      "source": [
        "Print a sample to get acquainted with the format"
      ]
    },
    {
      "cell_type": "code",
      "metadata": {
        "colab": {
          "base_uri": "https://localhost:8080/"
        },
        "id": "nV_B9bkG8RjS",
        "outputId": "d38f9922-4a6e-47a6-af3b-28b1c524ac23"
      },
      "source": [
        "X_batch, y_batch, timestamps_batch, asset_names_batch = next(iter(dataloader_test))\n",
        "print(f\"X_batch shape: {X_batch.shape}\")\n",
        "print(f\"y_batch shape: {y_batch.shape}\")\n",
        "print(f\"Asset names: {asset_names_batch}\")\n",
        "print(f\"Num Timestamps: {len(timestamps_batch)}, sample: {timestamps_batch[0]}\")"
      ],
      "execution_count": 17,
      "outputs": [
        {
          "output_type": "stream",
          "text": [
            "X_batch shape: torch.Size([64, 1, 50, 4])\n",
            "y_batch shape: torch.Size([64, 1, 5, 4])\n",
            "Asset names: ['AAPL', 'AMZN', 'KO', 'NFLX']\n",
            "Num Timestamps: 64, sample: 2020-03-16 00:00:00\n"
          ],
          "name": "stdout"
        }
      ]
    },
    {
      "cell_type": "code",
      "metadata": {
        "colab": {
          "base_uri": "https://localhost:8080/"
        },
        "id": "xO33V6Vm-aNZ",
        "outputId": "5d5203f5-34bc-4943-b608-d0a60b9a22ae"
      },
      "source": [
        "loaders = {\"train\": dataloader_train, \"test\": dataloader_test}\n",
        "date_ranges = {}\n",
        "for label, d in loaders.items():\n",
        "    minval = pd.Timestamp(\"2100-01-01 00:00:00\", freq=\"B\")\n",
        "    maxval = pd.Timestamp(\"1970-01-01 00:00:00\", freq=\"B\")\n",
        "    for _,_,c,_ in d:\n",
        "        if min(c) < minval:\n",
        "            minval = min(c)\n",
        "        if max(c) > maxval:\n",
        "            maxval = max(c)        \n",
        "    date_ranges[label] = (minval, maxval)\n",
        "    \n",
        "print(\"Date ranges for each dataset:\\n\")\n",
        "print(*[f\"{k}: {v}\\n\" for k,v in date_ranges.items()])"
      ],
      "execution_count": 18,
      "outputs": [
        {
          "output_type": "stream",
          "text": [
            "Date ranges for each dataset:\n",
            "\n",
            "train: (Timestamp('2010-03-15 00:00:00', freq='B'), Timestamp('2019-11-25 00:00:00', freq='B'))\n",
            " test: (Timestamp('2020-02-11 00:00:00', freq='B'), Timestamp('2020-12-23 00:00:00', freq='B'))\n",
            "\n"
          ],
          "name": "stdout"
        }
      ]
    },
    {
      "cell_type": "markdown",
      "metadata": {
        "id": "uhr13SKq-d3M"
      },
      "source": [
        "# Creat Network"
      ]
    },
    {
      "cell_type": "code",
      "metadata": {
        "colab": {
          "base_uri": "https://localhost:8080/"
        },
        "id": "rgjvGzeC_sU9",
        "outputId": "0538c861-9375-42a4-83b8-da881afabcca"
      },
      "source": [
        "network = KeynesNet(1,hidden_size=64)\n",
        "print(network)"
      ],
      "execution_count": 38,
      "outputs": [
        {
          "output_type": "stream",
          "text": [
            "KeynesNet(\n",
            "  (transform_layer): RNN(\n",
            "    (cell): LSTM(1, 64)\n",
            "  )\n",
            "  (norm_layer_1): InstanceNorm2d(1, eps=1e-05, momentum=0.1, affine=True, track_running_stats=False)\n",
            "  (norm_layer_2): GroupNorm(4, 64, eps=1e-05, affine=True)\n",
            "  (time_collapse_layer): AverageCollapse()\n",
            "  (channel_collapse_layer): AverageCollapse()\n",
            "  (portfolio_opt_layer): SoftmaxAllocator(\n",
            "    (layer): Softmax(dim=1)\n",
            "  )\n",
            ")\n"
          ],
          "name": "stdout"
        }
      ]
    },
    {
      "cell_type": "code",
      "metadata": {
        "id": "p66sW4nNElUj"
      },
      "source": [
        "network = network.train()"
      ],
      "execution_count": 39,
      "outputs": []
    },
    {
      "cell_type": "code",
      "metadata": {
        "id": "0MZJVz4uEuu4"
      },
      "source": [
        "loss =SharpeRatio()"
      ],
      "execution_count": 40,
      "outputs": []
    },
    {
      "cell_type": "code",
      "metadata": {
        "id": "sq674NfTE5f8"
      },
      "source": [
        "run = Run(network,\n",
        "          loss,\n",
        "          dataloader_train,\n",
        "          val_dataloaders={'test': dataloader_test,\n",
        "                  'train': dataloader_train,},\n",
        "          optimizer=torch.optim.Adam(network.parameters(),lr=1e-3,amsgrad=True),\n",
        "          callbacks=[EarlyStoppingCallback(metric_name='loss', dataloader_name='test', patience=20)\n",
        "                  ])"
      ],
      "execution_count": 41,
      "outputs": []
    },
    {
      "cell_type": "markdown",
      "metadata": {
        "id": "formal-english"
      },
      "source": [
        "## Train the network"
      ]
    },
    {
      "cell_type": "code",
      "metadata": {
        "colab": {
          "base_uri": "https://localhost:8080/"
        },
        "id": "iY9S63UoFsvj",
        "collapsed": true,
        "outputId": "db66f744-81be-47d8-c7d8-f791a376e847"
      },
      "source": [
        "history = run.launch(100)"
      ],
      "execution_count": 42,
      "outputs": [
        {
          "output_type": "stream",
          "text": [
            "Epoch 0: 100%|██████████| 40/40 [00:29<00:00,  1.35it/s, loss=-0.16479, test_loss=-0.16218, train_loss=-0.16604]\n",
            "Epoch 1: 100%|██████████| 40/40 [00:29<00:00,  1.35it/s, loss=-0.16658, test_loss=-0.16411, train_loss=-0.16817]\n",
            "Epoch 2: 100%|██████████| 40/40 [00:29<00:00,  1.35it/s, loss=-0.16652, test_loss=-0.16304, train_loss=-0.16760]\n",
            "Epoch 3: 100%|██████████| 40/40 [00:29<00:00,  1.34it/s, loss=-0.16866, test_loss=-0.16530, train_loss=-0.17167]\n",
            "Epoch 4: 100%|██████████| 40/40 [00:31<00:00,  1.29it/s, loss=-0.17150, test_loss=-0.16460, train_loss=-0.17322]\n",
            "Epoch 5: 100%|██████████| 40/40 [00:30<00:00,  1.30it/s, loss=-0.17078, test_loss=-0.16783, train_loss=-0.17359]\n",
            "Epoch 6: 100%|██████████| 40/40 [00:30<00:00,  1.31it/s, loss=-0.17466, test_loss=-0.17772, train_loss=-0.17643]\n",
            "Epoch 7: 100%|██████████| 40/40 [00:30<00:00,  1.30it/s, loss=-0.17296, test_loss=-0.16667, train_loss=-0.17323]\n",
            "Epoch 8: 100%|██████████| 40/40 [00:30<00:00,  1.31it/s, loss=-0.17156, test_loss=-0.17103, train_loss=-0.17501]\n",
            "Epoch 9: 100%|██████████| 40/40 [00:30<00:00,  1.32it/s, loss=-0.17579, test_loss=-0.17006, train_loss=-0.17524]\n",
            "Epoch 10: 100%|██████████| 40/40 [00:30<00:00,  1.31it/s, loss=-0.17445, test_loss=-0.16829, train_loss=-0.17461]\n",
            "Epoch 11: 100%|██████████| 40/40 [00:30<00:00,  1.30it/s, loss=-0.17429, test_loss=-0.17272, train_loss=-0.17537]\n",
            "Epoch 12: 100%|██████████| 40/40 [00:30<00:00,  1.30it/s, loss=-0.17212, test_loss=-0.16918, train_loss=-0.17547]\n",
            "Epoch 13: 100%|██████████| 40/40 [00:30<00:00,  1.29it/s, loss=-0.17715, test_loss=-0.17014, train_loss=-0.17603]\n",
            "Epoch 14: 100%|██████████| 40/40 [00:30<00:00,  1.29it/s, loss=-0.17549, test_loss=-0.16858, train_loss=-0.17653]\n",
            "Epoch 15: 100%|██████████| 40/40 [00:30<00:00,  1.31it/s, loss=-0.17552, test_loss=-0.17724, train_loss=-0.17664]\n",
            "Epoch 16: 100%|██████████| 40/40 [00:30<00:00,  1.32it/s, loss=-0.17507, test_loss=-0.17788, train_loss=-0.17727]\n",
            "Epoch 17: 100%|██████████| 40/40 [00:30<00:00,  1.31it/s, loss=-0.17588, test_loss=-0.16598, train_loss=-0.17767]\n",
            "Epoch 18: 100%|██████████| 40/40 [00:30<00:00,  1.32it/s, loss=-0.17787, test_loss=-0.17505, train_loss=-0.17612]\n",
            "Epoch 19: 100%|██████████| 40/40 [00:30<00:00,  1.32it/s, loss=-0.17574, test_loss=-0.17761, train_loss=-0.17880]\n",
            "Epoch 20: 100%|██████████| 40/40 [00:30<00:00,  1.32it/s, loss=-0.17651, test_loss=-0.17883, train_loss=-0.17717]\n",
            "Epoch 21: 100%|██████████| 40/40 [00:30<00:00,  1.32it/s, loss=-0.17082, test_loss=-0.16571, train_loss=-0.17404]\n",
            "Epoch 22: 100%|██████████| 40/40 [00:30<00:00,  1.32it/s, loss=-0.17300, test_loss=-0.16967, train_loss=-0.17672]\n",
            "Epoch 23: 100%|██████████| 40/40 [00:29<00:00,  1.34it/s, loss=-0.17614, test_loss=-0.16697, train_loss=-0.17742]\n",
            "Epoch 24: 100%|██████████| 40/40 [00:29<00:00,  1.34it/s, loss=-0.17594, test_loss=-0.16853, train_loss=-0.17961]\n",
            "Epoch 25: 100%|██████████| 40/40 [00:29<00:00,  1.34it/s, loss=-0.17899, test_loss=-0.16172, train_loss=-0.17463]\n",
            "Epoch 26: 100%|██████████| 40/40 [00:29<00:00,  1.35it/s, loss=-0.17402, test_loss=-0.17233, train_loss=-0.17696]\n",
            "Epoch 27: 100%|██████████| 40/40 [00:29<00:00,  1.36it/s, loss=-0.17504, test_loss=-0.16851, train_loss=-0.17879]\n",
            "Epoch 28: 100%|██████████| 40/40 [00:29<00:00,  1.35it/s, loss=-0.17814, test_loss=-0.17352, train_loss=-0.17958]\n",
            "Epoch 29: 100%|██████████| 40/40 [00:30<00:00,  1.33it/s, loss=-0.17755, test_loss=-0.16915, train_loss=-0.18013]\n",
            "Epoch 30: 100%|██████████| 40/40 [00:30<00:00,  1.31it/s, loss=-0.17766, test_loss=-0.16697, train_loss=-0.17750]\n",
            "Epoch 31: 100%|██████████| 40/40 [00:30<00:00,  1.33it/s, loss=-0.17933, test_loss=-0.17175, train_loss=-0.17826]\n",
            "Epoch 32: 100%|██████████| 40/40 [00:30<00:00,  1.33it/s, loss=-0.17863, test_loss=-0.16950, train_loss=-0.17955]\n",
            "Epoch 33: 100%|██████████| 40/40 [00:29<00:00,  1.33it/s, loss=-0.17931, test_loss=-0.16147, train_loss=-0.18012]\n",
            "Epoch 34: 100%|██████████| 40/40 [00:29<00:00,  1.34it/s, loss=-0.17939, test_loss=-0.17434, train_loss=-0.17971]\n",
            "Epoch 35: 100%|██████████| 40/40 [00:30<00:00,  1.33it/s, loss=-0.17834, test_loss=-0.16415, train_loss=-0.17598]\n",
            "Epoch 36: 100%|██████████| 40/40 [00:30<00:00,  1.33it/s, loss=-0.18008, test_loss=-0.16200, train_loss=-0.17973]\n",
            "Epoch 37: 100%|██████████| 40/40 [00:29<00:00,  1.34it/s, loss=-0.17969, test_loss=-0.17441, train_loss=-0.18059]\n",
            "Epoch 38: 100%|██████████| 40/40 [00:30<00:00,  1.33it/s, loss=-0.18077, test_loss=-0.17473, train_loss=-0.17766]\n",
            "Epoch 39: 100%|██████████| 40/40 [00:29<00:00,  1.34it/s, loss=-0.17529, test_loss=-0.16676, train_loss=-0.17966]\n",
            "Epoch 40: 100%|██████████| 40/40 [00:30<00:00,  1.31it/s, loss=-0.17966, test_loss=-0.16631, train_loss=-0.18301]\n"
          ],
          "name": "stderr"
        },
        {
          "output_type": "stream",
          "text": [
            "Training interrupted\n",
            "Training stopped early because there was no improvement in test_loss for 20 epochs\n"
          ],
          "name": "stdout"
        }
      ]
    },
    {
      "cell_type": "code",
      "metadata": {
        "id": "QOkRvdCs7qqk"
      },
      "source": [
        "per_epoch_results = history.metrics.groupby(['dataloader', 'metric', 'model', 'epoch'])['value']\n",
        "\n",
        "#print(per_epoch_results.count())  # 计算每个周期样本数量\n",
        "#print(per_epoch_results.mean())  # 计算每个epoch的平均loss"
      ],
      "execution_count": 43,
      "outputs": []
    },
    {
      "cell_type": "code",
      "metadata": {
        "colab": {
          "base_uri": "https://localhost:8080/",
          "height": 591
        },
        "id": "yPP7A1hYArN2",
        "outputId": "5c4ee8b1-001e-4a41-c19e-2cce81a86d14"
      },
      "source": [
        "# Plot the training loss\n",
        "plt.figure()\n",
        "per_epoch_results.mean()[\"train\"][\"loss\"][\"network\"].plot(title=\"Training Loss\")\n",
        "\n",
        "# Plot the test loss\n",
        "plt.figure()\n",
        "per_epoch_results.mean()[\"test\"][\"loss\"][\"network\"].plot(title=\"Test Loss\")\n",
        "#per_epoch_results.mean()['test']['loss']['network'].plot()"
      ],
      "execution_count": 44,
      "outputs": [
        {
          "output_type": "execute_result",
          "data": {
            "text/plain": [
              "<matplotlib.axes._subplots.AxesSubplot at 0x7fa262b21990>"
            ]
          },
          "metadata": {
            "tags": []
          },
          "execution_count": 44
        },
        {
          "output_type": "display_data",
          "data": {
            "image/png": "[encoded data removed]",
            "text/plain": [
              "<Figure size 432x288 with 1 Axes>"
            ]
          },
          "metadata": {
            "tags": [],
            "needs_background": "light"
          }
        },
        {
          "output_type": "display_data",
          "data": {
            "image/png": "[encoded data removed]",
            "text/plain": [
              "<Figure size 432x288 with 1 Axes>"
            ]
          },
          "metadata": {
            "tags": [],
            "needs_background": "light"
          }
        }
      ]
    },
    {
      "cell_type": "code",
      "metadata": {
        "id": "solid-cursor"
      },
      "source": [
        "network = network.eval()"
      ],
      "execution_count": 45,
      "outputs": []
    },
    {
      "cell_type": "code",
      "metadata": {
        "id": "parental-intranet"
      },
      "source": [
        "# Assign benchmarks. Recall: IBM does poorly. Amazon does well.\n",
        "# First add the individual stocks\n",
        "benchmarks = {asset_name: Singleton(asset_ix=i) for i, asset_name in enumerate(asset_names_batch)}\n",
        "\n",
        "# Now add the others\n",
        "benchmarks[\"1overN\"] = OneOverN()  # each asset has weight 1 / n_assets\n",
        "benchmarks[\"random\"] = Random()  # random allocation that is however close 1OverN\n",
        "benchmarks[\"network\"] = network  # our trained network\n",
        "\n",
        "# Include metrics. Selected two, since using only one bombs out at time of writing\n",
        "# NOTE: We are using `simple` here for the mean return, whereas most of the training and data config above is in log-space by default.\n",
        "metrics = {\n",
        "    \"Sharpe\": SharpeRatio(),\n",
        "    \"MeanReturn\": MeanReturns(output_type=\"simple\"),\n",
        "    \"MaxDD\": MaximumDrawdown(),\n",
        "}\n"
      ],
      "execution_count": 46,
      "outputs": []
    },
    {
      "cell_type": "code",
      "metadata": {
        "id": "_Hk8qeVHYbna"
      },
      "source": [
        "metrics_table = generate_metrics_table(benchmarks, dataloader_test, metrics)"
      ],
      "execution_count": 47,
      "outputs": []
    },
    {
      "cell_type": "code",
      "metadata": {
        "id": "NvjdRWLpdzpz"
      },
      "source": [
        "metrics_table['value'] *= -1"
      ],
      "execution_count": 48,
      "outputs": []
    },
    {
      "cell_type": "code",
      "metadata": {
        "colab": {
          "base_uri": "https://localhost:8080/",
          "height": 202
        },
        "id": "drQSS3gMd56I",
        "outputId": "639cc838-84f8-4af9-ca62-5c6c82113510"
      },
      "source": [
        "metrics_table.tail()"
      ],
      "execution_count": 49,
      "outputs": [
        {
          "output_type": "execute_result",
          "data": {
            "text/html": [
              "<div>\n",
              "<style scoped>\n",
              "    .dataframe tbody tr th:only-of-type {\n",
              "        vertical-align: middle;\n",
              "    }\n",
              "\n",
              "    .dataframe tbody tr th {\n",
              "        vertical-align: top;\n",
              "    }\n",
              "\n",
              "    .dataframe thead th {\n",
              "        text-align: right;\n",
              "    }\n",
              "</style>\n",
              "<table border=\"1\" class=\"dataframe\">\n",
              "  <thead>\n",
              "    <tr style=\"text-align: right;\">\n",
              "      <th></th>\n",
              "      <th>timestamp</th>\n",
              "      <th>benchmark</th>\n",
              "      <th>metric</th>\n",
              "      <th>value</th>\n",
              "    </tr>\n",
              "  </thead>\n",
              "  <tbody>\n",
              "    <tr>\n",
              "      <th>30</th>\n",
              "      <td>2020-03-19</td>\n",
              "      <td>network</td>\n",
              "      <td>MaxDD</td>\n",
              "      <td>-0.029907</td>\n",
              "    </tr>\n",
              "    <tr>\n",
              "      <th>31</th>\n",
              "      <td>2020-03-06</td>\n",
              "      <td>network</td>\n",
              "      <td>MaxDD</td>\n",
              "      <td>-0.146312</td>\n",
              "    </tr>\n",
              "    <tr>\n",
              "      <th>32</th>\n",
              "      <td>2020-11-04</td>\n",
              "      <td>network</td>\n",
              "      <td>MaxDD</td>\n",
              "      <td>-0.008710</td>\n",
              "    </tr>\n",
              "    <tr>\n",
              "      <th>33</th>\n",
              "      <td>2020-03-04</td>\n",
              "      <td>network</td>\n",
              "      <td>MaxDD</td>\n",
              "      <td>-0.137630</td>\n",
              "    </tr>\n",
              "    <tr>\n",
              "      <th>34</th>\n",
              "      <td>2020-07-13</td>\n",
              "      <td>network</td>\n",
              "      <td>MaxDD</td>\n",
              "      <td>-0.017450</td>\n",
              "    </tr>\n",
              "  </tbody>\n",
              "</table>\n",
              "</div>"
            ],
            "text/plain": [
              "    timestamp benchmark metric     value\n",
              "30 2020-03-19   network  MaxDD -0.029907\n",
              "31 2020-03-06   network  MaxDD -0.146312\n",
              "32 2020-11-04   network  MaxDD -0.008710\n",
              "33 2020-03-04   network  MaxDD -0.137630\n",
              "34 2020-07-13   network  MaxDD -0.017450"
            ]
          },
          "metadata": {
            "tags": []
          },
          "execution_count": 49
        }
      ]
    },
    {
      "cell_type": "code",
      "metadata": {
        "colab": {
          "base_uri": "https://localhost:8080/",
          "height": 504
        },
        "id": "4JlM4ZI9elHM",
        "outputId": "6f868a7d-3f2a-4232-89a3-a5442989d868"
      },
      "source": [
        "plot_metrics(metrics_table)"
      ],
      "execution_count": 50,
      "outputs": [
        {
          "output_type": "stream",
          "text": [
            "/usr/local/lib/python3.7/dist-packages/deepdow/visualize.py:177: UserWarning: Tight layout not applied. tight_layout cannot make axes height small enough to accommodate all axes decorations\n",
            "  plt.tight_layout()\n"
          ],
          "name": "stderr"
        },
        {
          "output_type": "execute_result",
          "data": {
            "text/plain": [
              "array([<matplotlib.axes._subplots.AxesSubplot object at 0x7fa252c398d0>,\n",
              "       <matplotlib.axes._subplots.AxesSubplot object at 0x7fa258420cd0>,\n",
              "       <matplotlib.axes._subplots.AxesSubplot object at 0x7fa258414310>],\n",
              "      dtype=object)"
            ]
          },
          "metadata": {
            "tags": []
          },
          "execution_count": 50
        },
        {
          "output_type": "display_data",
          "data": {
            "image/png": "[encoded data removed]",
            "text/plain": [
              "<Figure size 432x288 with 3 Axes>"
            ]
          },
          "metadata": {
            "tags": [],
            "needs_background": "light"
          }
        }
      ]
    },
    {
      "cell_type": "code",
      "metadata": {
        "colab": {
          "base_uri": "https://localhost:8080/",
          "height": 415
        },
        "id": "e0UGA4mRfIEt",
        "outputId": "bf7ab9bb-b7cd-40e1-d876-2f5a1d10f27b"
      },
      "source": [
        "weight_table = generate_weights_table(network, dataloader_test)\n",
        "weight_table"
      ],
      "execution_count": 51,
      "outputs": [
        {
          "output_type": "execute_result",
          "data": {
            "text/html": [
              "<div>\n",
              "<style scoped>\n",
              "    .dataframe tbody tr th:only-of-type {\n",
              "        vertical-align: middle;\n",
              "    }\n",
              "\n",
              "    .dataframe tbody tr th {\n",
              "        vertical-align: top;\n",
              "    }\n",
              "\n",
              "    .dataframe thead th {\n",
              "        text-align: right;\n",
              "    }\n",
              "</style>\n",
              "<table border=\"1\" class=\"dataframe\">\n",
              "  <thead>\n",
              "    <tr style=\"text-align: right;\">\n",
              "      <th></th>\n",
              "      <th>AAPL</th>\n",
              "      <th>AMZN</th>\n",
              "      <th>KO</th>\n",
              "      <th>NFLX</th>\n",
              "    </tr>\n",
              "  </thead>\n",
              "  <tbody>\n",
              "    <tr>\n",
              "      <th>2020-02-11</th>\n",
              "      <td>0.494471</td>\n",
              "      <td>0.132049</td>\n",
              "      <td>0.240056</td>\n",
              "      <td>0.133425</td>\n",
              "    </tr>\n",
              "    <tr>\n",
              "      <th>2020-02-12</th>\n",
              "      <td>0.552292</td>\n",
              "      <td>0.131954</td>\n",
              "      <td>0.183064</td>\n",
              "      <td>0.132690</td>\n",
              "    </tr>\n",
              "    <tr>\n",
              "      <th>2020-02-13</th>\n",
              "      <td>0.438489</td>\n",
              "      <td>0.233878</td>\n",
              "      <td>0.192885</td>\n",
              "      <td>0.134749</td>\n",
              "    </tr>\n",
              "    <tr>\n",
              "      <th>2020-02-14</th>\n",
              "      <td>0.430634</td>\n",
              "      <td>0.197357</td>\n",
              "      <td>0.236045</td>\n",
              "      <td>0.135963</td>\n",
              "    </tr>\n",
              "    <tr>\n",
              "      <th>2020-02-17</th>\n",
              "      <td>0.442446</td>\n",
              "      <td>0.176561</td>\n",
              "      <td>0.245653</td>\n",
              "      <td>0.135341</td>\n",
              "    </tr>\n",
              "    <tr>\n",
              "      <th>...</th>\n",
              "      <td>...</td>\n",
              "      <td>...</td>\n",
              "      <td>...</td>\n",
              "      <td>...</td>\n",
              "    </tr>\n",
              "    <tr>\n",
              "      <th>2020-12-17</th>\n",
              "      <td>0.229838</td>\n",
              "      <td>0.173625</td>\n",
              "      <td>0.413182</td>\n",
              "      <td>0.183356</td>\n",
              "    </tr>\n",
              "    <tr>\n",
              "      <th>2020-12-18</th>\n",
              "      <td>0.244087</td>\n",
              "      <td>0.196685</td>\n",
              "      <td>0.357128</td>\n",
              "      <td>0.202100</td>\n",
              "    </tr>\n",
              "    <tr>\n",
              "      <th>2020-12-21</th>\n",
              "      <td>0.247553</td>\n",
              "      <td>0.217456</td>\n",
              "      <td>0.316628</td>\n",
              "      <td>0.218363</td>\n",
              "    </tr>\n",
              "    <tr>\n",
              "      <th>2020-12-22</th>\n",
              "      <td>0.238233</td>\n",
              "      <td>0.206947</td>\n",
              "      <td>0.346966</td>\n",
              "      <td>0.207854</td>\n",
              "    </tr>\n",
              "    <tr>\n",
              "      <th>2020-12-23</th>\n",
              "      <td>0.247982</td>\n",
              "      <td>0.215496</td>\n",
              "      <td>0.320441</td>\n",
              "      <td>0.216080</td>\n",
              "    </tr>\n",
              "  </tbody>\n",
              "</table>\n",
              "<p>227 rows × 4 columns</p>\n",
              "</div>"
            ],
            "text/plain": [
              "                AAPL      AMZN        KO      NFLX\n",
              "2020-02-11  0.494471  0.132049  0.240056  0.133425\n",
              "2020-02-12  0.552292  0.131954  0.183064  0.132690\n",
              "2020-02-13  0.438489  0.233878  0.192885  0.134749\n",
              "2020-02-14  0.430634  0.197357  0.236045  0.135963\n",
              "2020-02-17  0.442446  0.176561  0.245653  0.135341\n",
              "...              ...       ...       ...       ...\n",
              "2020-12-17  0.229838  0.173625  0.413182  0.183356\n",
              "2020-12-18  0.244087  0.196685  0.357128  0.202100\n",
              "2020-12-21  0.247553  0.217456  0.316628  0.218363\n",
              "2020-12-22  0.238233  0.206947  0.346966  0.207854\n",
              "2020-12-23  0.247982  0.215496  0.320441  0.216080\n",
              "\n",
              "[227 rows x 4 columns]"
            ]
          },
          "metadata": {
            "tags": []
          },
          "execution_count": 51
        }
      ]
    },
    {
      "cell_type": "code",
      "metadata": {
        "colab": {
          "base_uri": "https://localhost:8080/",
          "height": 307
        },
        "id": "PfdMZX4ffQC9",
        "outputId": "46c2cd64-b460-4730-8968-1e87b697e2a9"
      },
      "source": [
        "plot_weight_heatmap(weight_table,\n",
        "                    add_sum_column=True,\n",
        "                    time_format=None,\n",
        "                    time_skips=25)"
      ],
      "execution_count": 52,
      "outputs": [
        {
          "output_type": "execute_result",
          "data": {
            "text/plain": [
              "<matplotlib.axes._subplots.AxesSubplot at 0x7fa25843b110>"
            ]
          },
          "metadata": {
            "tags": []
          },
          "execution_count": 52
        },
        {
          "output_type": "display_data",
          "data": {
            "image/png": "[encoded data removed]",
            "text/plain": [
              "<Figure size 432x288 with 2 Axes>"
            ]
          },
          "metadata": {
            "tags": [],
            "needs_background": "light"
          }
        }
      ]
    },
    {
      "cell_type": "code",
      "metadata": {
        "id": "aGmFTRMRwFN8"
      },
      "source": [
        "benchmark_num = metrics_table['benchmark'].unique()\n",
        "metric_num = metrics_table['metric'].unique()"
      ],
      "execution_count": 53,
      "outputs": []
    },
    {
      "cell_type": "code",
      "metadata": {
        "colab": {
          "base_uri": "https://localhost:8080/"
        },
        "id": "ri1da2N0nvyv",
        "outputId": "bc63079e-9360-491b-ed11-a1c7fb25dd49"
      },
      "source": [
        "df2=pd.DataFrame(np.random.randn(len(benchmark_num),len(metric_num)),\n",
        "                 index=list(benchmark_num),\n",
        "                 columns=list(metric_num))\n",
        "for i in benchmark_num:\n",
        "  for j in metric_num:\n",
        "    returns = metrics_table.query(f\"(metric=='{j}') & (benchmark == '{i}')\")\n",
        "    index_num=list(benchmark_num).index(i)\n",
        "    column_num=list(metric_num).index(j)\n",
        "    df2.iloc[index_num][column_num]=returns['value'].mean()\n",
        "    #print(index_num,column_num,returns['value'].mean())\n",
        "print(df2)\n",
        "\n",
        "\n"
      ],
      "execution_count": 54,
      "outputs": [
        {
          "output_type": "stream",
          "text": [
            "           Sharpe  MeanReturn     MaxDD\n",
            "AAPL     0.186884    0.002677 -0.031108\n",
            "AMZN     0.139380    0.002152 -0.028824\n",
            "KO       0.045316   -0.000165 -0.027647\n",
            "NFLX     0.082009    0.001845 -0.034437\n",
            "1overN   0.161869    0.001617 -0.024068\n",
            "random   0.155446    0.001670 -0.025229\n",
            "network  0.166306    0.001691 -0.023752\n"
          ],
          "name": "stdout"
        }
      ]
    }
  ]
}